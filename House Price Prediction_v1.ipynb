{
 "cells": [
  {
   "cell_type": "code",
   "execution_count": 155,
   "id": "258d02c3-5608-448b-9a4a-5cf9de3b186c",
   "metadata": {},
   "outputs": [],
   "source": [
    "import numpy as np\n",
    "import pandas as pd\n",
    "import seaborn as sns\n",
    "from sklearn.datasets import fetch_california_housing\n",
    "from matplotlib import pyplot as plt\n",
    "from sklearn.model_selection import train_test_split\n",
    "import statsmodels.formula.api as SM\n",
    "from statsmodels.stats.outliers_influence import variance_inflation_factor\n"
   ]
  },
  {
   "cell_type": "code",
   "execution_count": 4,
   "id": "f94034f1-ebd4-4055-9c2a-2ae453f236da",
   "metadata": {},
   "outputs": [],
   "source": [
    "def outlier_iqr(data):\n",
    "    \"\"\"\n",
    "    Calculating the IQR stats\n",
    "    \"\"\"\n",
    "    Q1 = np.percentile(data, 25)  \n",
    "    Q3 = np.percentile(data, 75)  \n",
    "    IQR = Q3 - Q1  \n",
    "    \n",
    "    # Calculate lower and upper whiskers\n",
    "    lower_whisker = Q1 - 1.5 * IQR  \n",
    "    upper_whisker = Q3 + 1.5 * IQR  \n",
    "    \n",
    "    print(\"Q1:\", Q1, \"Q3:\", Q3, \"IQR:\", IQR)\n",
    "    print(\"Lower Whisker:\", lower_whisker, \"Upper Whisker:\", upper_whisker)\n",
    "    return upper_whisker"
   ]
  },
  {
   "cell_type": "code",
   "execution_count": 5,
   "id": "47467242-ce69-459c-a3e9-c45bdc891780",
   "metadata": {},
   "outputs": [],
   "source": [
    "def outlier_winsorize(data, lower_limit=5, upper_limit=95):\n",
    "    \"\"\"\n",
    "    Apply 90% Winsorization to input data (replaces extremes at 5th and 95th percentiles).\n",
    "    \n",
    "    Parameters:\n",
    "    data (array-like): Input data to be winsorized\n",
    "    lower_limit (float): Lower percentile cutoff (default=5)\n",
    "    upper_limit (float): Upper percentile cutoff (default=95)\n",
    "    \n",
    "    Returns:\n",
    "    np.ndarray: Winsorized data\n",
    "    \"\"\"\n",
    "    data = np.asarray(data)\n",
    "    lower = np.nanpercentile(data, lower_limit)\n",
    "    upper = np.nanpercentile(data, upper_limit)\n",
    "    return np.clip(data, lower, upper)"
   ]
  },
  {
   "cell_type": "code",
   "execution_count": 6,
   "id": "516934dd-ae89-4323-95b4-a717cf28a979",
   "metadata": {},
   "outputs": [],
   "source": [
    "# Loading features\n",
    "housing = fetch_california_housing()"
   ]
  },
  {
   "cell_type": "code",
   "execution_count": 7,
   "id": "1c35b618-0e03-4382-99cd-d9e0ed34485e",
   "metadata": {},
   "outputs": [],
   "source": [
    "data = pd.DataFrame(housing.data)\n",
    "data.columns = housing.feature_names"
   ]
  },
  {
   "cell_type": "code",
   "execution_count": 8,
   "id": "9a7a44a1-514c-4213-8978-7498d579236a",
   "metadata": {},
   "outputs": [],
   "source": [
    "# loading target column\n",
    "data['Price_in_100k'] = housing.target"
   ]
  },
  {
   "cell_type": "markdown",
   "id": "afaae445-5b20-4d69-8d29-9789281f3b8f",
   "metadata": {},
   "source": [
    "### Feature description\n",
    "\n",
    "- MedInc: median income in block group.\n",
    "- HouseAge: median house age in block group.\n",
    "- AveRooms: average number of rooms per household.\n",
    "- AveBedrms: average number of bedrooms per household.\n",
    "- Population: block group population.\n",
    "- AveOccup: average number of household members.\n",
    "- Latitude: block group latitude.\n",
    "- Longitude: block group longitude."
   ]
  },
  {
   "cell_type": "markdown",
   "id": "faf7b233-5022-4602-8903-5c34d5551cb7",
   "metadata": {},
   "source": [
    "## Exploratory Data Analysis"
   ]
  },
  {
   "cell_type": "code",
   "execution_count": 11,
   "id": "10a13193-66a7-49af-9405-fcfeaffce5a2",
   "metadata": {},
   "outputs": [
    {
     "data": {
      "text/html": [
       "<div>\n",
       "<style scoped>\n",
       "    .dataframe tbody tr th:only-of-type {\n",
       "        vertical-align: middle;\n",
       "    }\n",
       "\n",
       "    .dataframe tbody tr th {\n",
       "        vertical-align: top;\n",
       "    }\n",
       "\n",
       "    .dataframe thead th {\n",
       "        text-align: right;\n",
       "    }\n",
       "</style>\n",
       "<table border=\"1\" class=\"dataframe\">\n",
       "  <thead>\n",
       "    <tr style=\"text-align: right;\">\n",
       "      <th></th>\n",
       "      <th>MedInc</th>\n",
       "      <th>HouseAge</th>\n",
       "      <th>AveRooms</th>\n",
       "      <th>AveBedrms</th>\n",
       "      <th>Population</th>\n",
       "      <th>AveOccup</th>\n",
       "      <th>Latitude</th>\n",
       "      <th>Longitude</th>\n",
       "      <th>Price_in_100k</th>\n",
       "    </tr>\n",
       "  </thead>\n",
       "  <tbody>\n",
       "    <tr>\n",
       "      <th>0</th>\n",
       "      <td>8.3252</td>\n",
       "      <td>41.0</td>\n",
       "      <td>6.984127</td>\n",
       "      <td>1.023810</td>\n",
       "      <td>322.0</td>\n",
       "      <td>2.555556</td>\n",
       "      <td>37.88</td>\n",
       "      <td>-122.23</td>\n",
       "      <td>4.526</td>\n",
       "    </tr>\n",
       "    <tr>\n",
       "      <th>1</th>\n",
       "      <td>8.3014</td>\n",
       "      <td>21.0</td>\n",
       "      <td>6.238137</td>\n",
       "      <td>0.971880</td>\n",
       "      <td>2401.0</td>\n",
       "      <td>2.109842</td>\n",
       "      <td>37.86</td>\n",
       "      <td>-122.22</td>\n",
       "      <td>3.585</td>\n",
       "    </tr>\n",
       "    <tr>\n",
       "      <th>2</th>\n",
       "      <td>7.2574</td>\n",
       "      <td>52.0</td>\n",
       "      <td>8.288136</td>\n",
       "      <td>1.073446</td>\n",
       "      <td>496.0</td>\n",
       "      <td>2.802260</td>\n",
       "      <td>37.85</td>\n",
       "      <td>-122.24</td>\n",
       "      <td>3.521</td>\n",
       "    </tr>\n",
       "    <tr>\n",
       "      <th>3</th>\n",
       "      <td>5.6431</td>\n",
       "      <td>52.0</td>\n",
       "      <td>5.817352</td>\n",
       "      <td>1.073059</td>\n",
       "      <td>558.0</td>\n",
       "      <td>2.547945</td>\n",
       "      <td>37.85</td>\n",
       "      <td>-122.25</td>\n",
       "      <td>3.413</td>\n",
       "    </tr>\n",
       "    <tr>\n",
       "      <th>4</th>\n",
       "      <td>3.8462</td>\n",
       "      <td>52.0</td>\n",
       "      <td>6.281853</td>\n",
       "      <td>1.081081</td>\n",
       "      <td>565.0</td>\n",
       "      <td>2.181467</td>\n",
       "      <td>37.85</td>\n",
       "      <td>-122.25</td>\n",
       "      <td>3.422</td>\n",
       "    </tr>\n",
       "  </tbody>\n",
       "</table>\n",
       "</div>"
      ],
      "text/plain": [
       "   MedInc  HouseAge  AveRooms  AveBedrms  Population  AveOccup  Latitude  \\\n",
       "0  8.3252      41.0  6.984127   1.023810       322.0  2.555556     37.88   \n",
       "1  8.3014      21.0  6.238137   0.971880      2401.0  2.109842     37.86   \n",
       "2  7.2574      52.0  8.288136   1.073446       496.0  2.802260     37.85   \n",
       "3  5.6431      52.0  5.817352   1.073059       558.0  2.547945     37.85   \n",
       "4  3.8462      52.0  6.281853   1.081081       565.0  2.181467     37.85   \n",
       "\n",
       "   Longitude  Price_in_100k  \n",
       "0    -122.23          4.526  \n",
       "1    -122.22          3.585  \n",
       "2    -122.24          3.521  \n",
       "3    -122.25          3.413  \n",
       "4    -122.25          3.422  "
      ]
     },
     "execution_count": 11,
     "metadata": {},
     "output_type": "execute_result"
    }
   ],
   "source": [
    "data.head()"
   ]
  },
  {
   "cell_type": "code",
   "execution_count": 12,
   "id": "c37e21a8-77bc-49f9-bfe6-f36bd723a66e",
   "metadata": {},
   "outputs": [
    {
     "data": {
      "text/plain": [
       "(20640, 9)"
      ]
     },
     "execution_count": 12,
     "metadata": {},
     "output_type": "execute_result"
    }
   ],
   "source": [
    "data.shape"
   ]
  },
  {
   "cell_type": "code",
   "execution_count": 13,
   "id": "da58a17e-4824-47cb-8b77-35c662426e35",
   "metadata": {},
   "outputs": [
    {
     "data": {
      "text/plain": [
       "Index(['MedInc', 'HouseAge', 'AveRooms', 'AveBedrms', 'Population', 'AveOccup',\n",
       "       'Latitude', 'Longitude', 'Price_in_100k'],\n",
       "      dtype='object')"
      ]
     },
     "execution_count": 13,
     "metadata": {},
     "output_type": "execute_result"
    }
   ],
   "source": [
    "data.columns"
   ]
  },
  {
   "cell_type": "code",
   "execution_count": 14,
   "id": "8f83e343-b72c-43c5-b7a5-e30d3e681af3",
   "metadata": {},
   "outputs": [
    {
     "name": "stdout",
     "output_type": "stream",
     "text": [
      "<class 'pandas.core.frame.DataFrame'>\n",
      "RangeIndex: 20640 entries, 0 to 20639\n",
      "Data columns (total 9 columns):\n",
      " #   Column         Non-Null Count  Dtype  \n",
      "---  ------         --------------  -----  \n",
      " 0   MedInc         20640 non-null  float64\n",
      " 1   HouseAge       20640 non-null  float64\n",
      " 2   AveRooms       20640 non-null  float64\n",
      " 3   AveBedrms      20640 non-null  float64\n",
      " 4   Population     20640 non-null  float64\n",
      " 5   AveOccup       20640 non-null  float64\n",
      " 6   Latitude       20640 non-null  float64\n",
      " 7   Longitude      20640 non-null  float64\n",
      " 8   Price_in_100k  20640 non-null  float64\n",
      "dtypes: float64(9)\n",
      "memory usage: 1.4 MB\n"
     ]
    }
   ],
   "source": [
    "data.info()"
   ]
  },
  {
   "cell_type": "code",
   "execution_count": 15,
   "id": "1ef5c58c-ea15-4c6f-a084-bc909650c0c0",
   "metadata": {},
   "outputs": [
    {
     "data": {
      "text/html": [
       "<div>\n",
       "<style scoped>\n",
       "    .dataframe tbody tr th:only-of-type {\n",
       "        vertical-align: middle;\n",
       "    }\n",
       "\n",
       "    .dataframe tbody tr th {\n",
       "        vertical-align: top;\n",
       "    }\n",
       "\n",
       "    .dataframe thead th {\n",
       "        text-align: right;\n",
       "    }\n",
       "</style>\n",
       "<table border=\"1\" class=\"dataframe\">\n",
       "  <thead>\n",
       "    <tr style=\"text-align: right;\">\n",
       "      <th></th>\n",
       "      <th>MedInc</th>\n",
       "      <th>HouseAge</th>\n",
       "      <th>AveRooms</th>\n",
       "      <th>AveBedrms</th>\n",
       "      <th>Population</th>\n",
       "      <th>AveOccup</th>\n",
       "      <th>Latitude</th>\n",
       "      <th>Longitude</th>\n",
       "      <th>Price_in_100k</th>\n",
       "    </tr>\n",
       "  </thead>\n",
       "  <tbody>\n",
       "    <tr>\n",
       "      <th>count</th>\n",
       "      <td>20640.000000</td>\n",
       "      <td>20640.000000</td>\n",
       "      <td>20640.000000</td>\n",
       "      <td>20640.000000</td>\n",
       "      <td>20640.000000</td>\n",
       "      <td>20640.000000</td>\n",
       "      <td>20640.000000</td>\n",
       "      <td>20640.000000</td>\n",
       "      <td>20640.000000</td>\n",
       "    </tr>\n",
       "    <tr>\n",
       "      <th>mean</th>\n",
       "      <td>3.870671</td>\n",
       "      <td>28.639486</td>\n",
       "      <td>5.429000</td>\n",
       "      <td>1.096675</td>\n",
       "      <td>1425.476744</td>\n",
       "      <td>3.070655</td>\n",
       "      <td>35.631861</td>\n",
       "      <td>-119.569704</td>\n",
       "      <td>2.068558</td>\n",
       "    </tr>\n",
       "    <tr>\n",
       "      <th>std</th>\n",
       "      <td>1.899822</td>\n",
       "      <td>12.585558</td>\n",
       "      <td>2.474173</td>\n",
       "      <td>0.473911</td>\n",
       "      <td>1132.462122</td>\n",
       "      <td>10.386050</td>\n",
       "      <td>2.135952</td>\n",
       "      <td>2.003532</td>\n",
       "      <td>1.153956</td>\n",
       "    </tr>\n",
       "    <tr>\n",
       "      <th>min</th>\n",
       "      <td>0.499900</td>\n",
       "      <td>1.000000</td>\n",
       "      <td>0.846154</td>\n",
       "      <td>0.333333</td>\n",
       "      <td>3.000000</td>\n",
       "      <td>0.692308</td>\n",
       "      <td>32.540000</td>\n",
       "      <td>-124.350000</td>\n",
       "      <td>0.149990</td>\n",
       "    </tr>\n",
       "    <tr>\n",
       "      <th>25%</th>\n",
       "      <td>2.563400</td>\n",
       "      <td>18.000000</td>\n",
       "      <td>4.440716</td>\n",
       "      <td>1.006079</td>\n",
       "      <td>787.000000</td>\n",
       "      <td>2.429741</td>\n",
       "      <td>33.930000</td>\n",
       "      <td>-121.800000</td>\n",
       "      <td>1.196000</td>\n",
       "    </tr>\n",
       "    <tr>\n",
       "      <th>50%</th>\n",
       "      <td>3.534800</td>\n",
       "      <td>29.000000</td>\n",
       "      <td>5.229129</td>\n",
       "      <td>1.048780</td>\n",
       "      <td>1166.000000</td>\n",
       "      <td>2.818116</td>\n",
       "      <td>34.260000</td>\n",
       "      <td>-118.490000</td>\n",
       "      <td>1.797000</td>\n",
       "    </tr>\n",
       "    <tr>\n",
       "      <th>75%</th>\n",
       "      <td>4.743250</td>\n",
       "      <td>37.000000</td>\n",
       "      <td>6.052381</td>\n",
       "      <td>1.099526</td>\n",
       "      <td>1725.000000</td>\n",
       "      <td>3.282261</td>\n",
       "      <td>37.710000</td>\n",
       "      <td>-118.010000</td>\n",
       "      <td>2.647250</td>\n",
       "    </tr>\n",
       "    <tr>\n",
       "      <th>max</th>\n",
       "      <td>15.000100</td>\n",
       "      <td>52.000000</td>\n",
       "      <td>141.909091</td>\n",
       "      <td>34.066667</td>\n",
       "      <td>35682.000000</td>\n",
       "      <td>1243.333333</td>\n",
       "      <td>41.950000</td>\n",
       "      <td>-114.310000</td>\n",
       "      <td>5.000010</td>\n",
       "    </tr>\n",
       "  </tbody>\n",
       "</table>\n",
       "</div>"
      ],
      "text/plain": [
       "             MedInc      HouseAge      AveRooms     AveBedrms    Population  \\\n",
       "count  20640.000000  20640.000000  20640.000000  20640.000000  20640.000000   \n",
       "mean       3.870671     28.639486      5.429000      1.096675   1425.476744   \n",
       "std        1.899822     12.585558      2.474173      0.473911   1132.462122   \n",
       "min        0.499900      1.000000      0.846154      0.333333      3.000000   \n",
       "25%        2.563400     18.000000      4.440716      1.006079    787.000000   \n",
       "50%        3.534800     29.000000      5.229129      1.048780   1166.000000   \n",
       "75%        4.743250     37.000000      6.052381      1.099526   1725.000000   \n",
       "max       15.000100     52.000000    141.909091     34.066667  35682.000000   \n",
       "\n",
       "           AveOccup      Latitude     Longitude  Price_in_100k  \n",
       "count  20640.000000  20640.000000  20640.000000   20640.000000  \n",
       "mean       3.070655     35.631861   -119.569704       2.068558  \n",
       "std       10.386050      2.135952      2.003532       1.153956  \n",
       "min        0.692308     32.540000   -124.350000       0.149990  \n",
       "25%        2.429741     33.930000   -121.800000       1.196000  \n",
       "50%        2.818116     34.260000   -118.490000       1.797000  \n",
       "75%        3.282261     37.710000   -118.010000       2.647250  \n",
       "max     1243.333333     41.950000   -114.310000       5.000010  "
      ]
     },
     "execution_count": 15,
     "metadata": {},
     "output_type": "execute_result"
    }
   ],
   "source": [
    "data.describe()"
   ]
  },
  {
   "cell_type": "code",
   "execution_count": 16,
   "id": "c26f469b-9488-41b4-ba50-c0940ec6a0a6",
   "metadata": {},
   "outputs": [
    {
     "data": {
      "text/plain": [
       "MedInc           0\n",
       "HouseAge         0\n",
       "AveRooms         0\n",
       "AveBedrms        0\n",
       "Population       0\n",
       "AveOccup         0\n",
       "Latitude         0\n",
       "Longitude        0\n",
       "Price_in_100k    0\n",
       "dtype: int64"
      ]
     },
     "execution_count": 16,
     "metadata": {},
     "output_type": "execute_result"
    }
   ],
   "source": [
    "# Checking null values\n",
    "data.isnull().sum().sort_values(ascending = False)"
   ]
  },
  {
   "cell_type": "code",
   "execution_count": 17,
   "id": "7fbc917a-0cbe-4f07-abeb-01960f511a30",
   "metadata": {},
   "outputs": [
    {
     "data": {
      "text/html": [
       "<div>\n",
       "<style scoped>\n",
       "    .dataframe tbody tr th:only-of-type {\n",
       "        vertical-align: middle;\n",
       "    }\n",
       "\n",
       "    .dataframe tbody tr th {\n",
       "        vertical-align: top;\n",
       "    }\n",
       "\n",
       "    .dataframe thead th {\n",
       "        text-align: right;\n",
       "    }\n",
       "</style>\n",
       "<table border=\"1\" class=\"dataframe\">\n",
       "  <thead>\n",
       "    <tr style=\"text-align: right;\">\n",
       "      <th></th>\n",
       "      <th>MedInc</th>\n",
       "      <th>HouseAge</th>\n",
       "      <th>AveRooms</th>\n",
       "      <th>AveBedrms</th>\n",
       "      <th>Population</th>\n",
       "      <th>AveOccup</th>\n",
       "      <th>Latitude</th>\n",
       "      <th>Longitude</th>\n",
       "      <th>Price_in_100k</th>\n",
       "    </tr>\n",
       "  </thead>\n",
       "  <tbody>\n",
       "  </tbody>\n",
       "</table>\n",
       "</div>"
      ],
      "text/plain": [
       "Empty DataFrame\n",
       "Columns: [MedInc, HouseAge, AveRooms, AveBedrms, Population, AveOccup, Latitude, Longitude, Price_in_100k]\n",
       "Index: []"
      ]
     },
     "execution_count": 17,
     "metadata": {},
     "output_type": "execute_result"
    }
   ],
   "source": [
    "# Checking duplicates\n",
    "duplicate = data[data.duplicated()] \n",
    "duplicate"
   ]
  },
  {
   "cell_type": "code",
   "execution_count": 18,
   "id": "6e40cea6-24a3-4a7a-8309-f09704aa59b4",
   "metadata": {},
   "outputs": [],
   "source": [
    "# Converting wrongly tagged data types of select columns.\n",
    "data = data.astype({'HouseAge': int, 'Population': int})"
   ]
  },
  {
   "cell_type": "code",
   "execution_count": 19,
   "id": "c1915b59-6d2b-478c-b23c-edb80754bf1a",
   "metadata": {},
   "outputs": [
    {
     "name": "stdout",
     "output_type": "stream",
     "text": [
      "<class 'pandas.core.frame.DataFrame'>\n",
      "RangeIndex: 20640 entries, 0 to 20639\n",
      "Data columns (total 9 columns):\n",
      " #   Column         Non-Null Count  Dtype  \n",
      "---  ------         --------------  -----  \n",
      " 0   MedInc         20640 non-null  float64\n",
      " 1   HouseAge       20640 non-null  int64  \n",
      " 2   AveRooms       20640 non-null  float64\n",
      " 3   AveBedrms      20640 non-null  float64\n",
      " 4   Population     20640 non-null  int64  \n",
      " 5   AveOccup       20640 non-null  float64\n",
      " 6   Latitude       20640 non-null  float64\n",
      " 7   Longitude      20640 non-null  float64\n",
      " 8   Price_in_100k  20640 non-null  float64\n",
      "dtypes: float64(7), int64(2)\n",
      "memory usage: 1.4 MB\n"
     ]
    }
   ],
   "source": [
    "data.info()"
   ]
  },
  {
   "cell_type": "markdown",
   "id": "9fdf1973-1431-448e-9d68-201c1a71870a",
   "metadata": {},
   "source": [
    "### Target variable distribution"
   ]
  },
  {
   "cell_type": "code",
   "execution_count": 21,
   "id": "af1aa2ac-21dd-4256-8580-9b3a2a5ba01f",
   "metadata": {},
   "outputs": [
    {
     "data": {
      "text/plain": [
       "<seaborn.axisgrid.FacetGrid at 0x105acaab0>"
      ]
     },
     "execution_count": 21,
     "metadata": {},
     "output_type": "execute_result"
    },
    {
     "data": {
      "image/png": "[encoded data removed]",
      "text/plain": [
       "<Figure size 500x500 with 1 Axes>"
      ]
     },
     "metadata": {},
     "output_type": "display_data"
    }
   ],
   "source": [
    "sns.displot(data['Price_in_100k'])"
   ]
  },
  {
   "cell_type": "code",
   "execution_count": 22,
   "id": "0e67bb79-3952-4c84-b20f-4f2a23fde169",
   "metadata": {},
   "outputs": [
    {
     "data": {
      "text/plain": [
       "<Axes: xlabel='Price_in_100k'>"
      ]
     },
     "execution_count": 22,
     "metadata": {},
     "output_type": "execute_result"
    },
    {
     "data": {
      "image/png": "[encoded data removed]",
      "text/plain": [
       "<Figure size 640x480 with 1 Axes>"
      ]
     },
     "metadata": {},
     "output_type": "display_data"
    }
   ],
   "source": [
    "sns.boxplot(data['Price_in_100k'], orient='h')"
   ]
  },
  {
   "cell_type": "code",
   "execution_count": 23,
   "id": "493da529-50c5-49d2-a990-68b2e2ab34ff",
   "metadata": {},
   "outputs": [
    {
     "data": {
      "text/plain": [
       "0.9777632739098345"
      ]
     },
     "execution_count": 23,
     "metadata": {},
     "output_type": "execute_result"
    }
   ],
   "source": [
    "data['Price_in_100k'].skew()\n",
    "# moderately scewed data"
   ]
  },
  {
   "cell_type": "markdown",
   "id": "e65e35dd-60ae-4078-b555-4b1b600ab07f",
   "metadata": {},
   "source": [
    "### Analysing feature: MedInc"
   ]
  },
  {
   "cell_type": "code",
   "execution_count": 25,
   "id": "f0050692-0ec9-4508-b1e6-1ae9d0c81a46",
   "metadata": {},
   "outputs": [
    {
     "data": {
      "text/plain": [
       "<seaborn.axisgrid.FacetGrid at 0x163fdae10>"
      ]
     },
     "execution_count": 25,
     "metadata": {},
     "output_type": "execute_result"
    },
    {
     "data": {
      "image/png": "[encoded data removed]",
      "text/plain": [
       "<Figure size 500x500 with 1 Axes>"
      ]
     },
     "metadata": {},
     "output_type": "display_data"
    }
   ],
   "source": [
    "sns.displot(data['MedInc'])"
   ]
  },
  {
   "cell_type": "code",
   "execution_count": 26,
   "id": "92623c52-2e69-4778-8958-7e905d0b89de",
   "metadata": {},
   "outputs": [
    {
     "data": {
      "text/plain": [
       "<Axes: xlabel='MedInc'>"
      ]
     },
     "execution_count": 26,
     "metadata": {},
     "output_type": "execute_result"
    },
    {
     "data": {
      "image/png": "[encoded data removed]",
      "text/plain": [
       "<Figure size 640x480 with 1 Axes>"
      ]
     },
     "metadata": {},
     "output_type": "display_data"
    }
   ],
   "source": [
    "sns.boxplot(data['MedInc'], orient='h')"
   ]
  },
  {
   "cell_type": "code",
   "execution_count": 27,
   "id": "8d5f9476-2dc9-48fa-af9a-ad62ee5ba02e",
   "metadata": {},
   "outputs": [
    {
     "data": {
      "text/plain": [
       "1.6466567021344465"
      ]
     },
     "execution_count": 27,
     "metadata": {},
     "output_type": "execute_result"
    }
   ],
   "source": [
    "data['MedInc'].skew()\n",
    "# Right skewed"
   ]
  },
  {
   "cell_type": "markdown",
   "id": "812db475-4309-4920-83fc-8c4cbf436d8f",
   "metadata": {},
   "source": [
    "### Analysing feature: MedInc after outlier treatment"
   ]
  },
  {
   "cell_type": "code",
   "execution_count": 29,
   "id": "acd07f27-9fe9-46db-899e-bb2f09d015b2",
   "metadata": {},
   "outputs": [],
   "source": [
    "win_data = pd.DataFrame(outlier_winsorize(data['MedInc']))\n",
    "data['MedInc'] = win_data.values"
   ]
  },
  {
   "cell_type": "code",
   "execution_count": 30,
   "id": "24b7e18a-1236-4c19-9999-ab65b18bacc4",
   "metadata": {},
   "outputs": [
    {
     "data": {
      "text/plain": [
       "<seaborn.axisgrid.FacetGrid at 0x163e39790>"
      ]
     },
     "execution_count": 30,
     "metadata": {},
     "output_type": "execute_result"
    },
    {
     "data": {
      "image/png": "[encoded data removed]",
      "text/plain": [
       "<Figure size 500x500 with 1 Axes>"
      ]
     },
     "metadata": {},
     "output_type": "display_data"
    }
   ],
   "source": [
    "sns.displot(data['MedInc'])"
   ]
  },
  {
   "cell_type": "code",
   "execution_count": 31,
   "id": "014c27b2-be89-430d-8c87-ec4008a7983f",
   "metadata": {},
   "outputs": [
    {
     "data": {
      "text/plain": [
       "<Axes: xlabel='MedInc'>"
      ]
     },
     "execution_count": 31,
     "metadata": {},
     "output_type": "execute_result"
    },
    {
     "data": {
      "image/png": "[encoded data removed]",
      "text/plain": [
       "<Figure size 640x480 with 1 Axes>"
      ]
     },
     "metadata": {},
     "output_type": "display_data"
    }
   ],
   "source": [
    "sns.boxplot(data['MedInc'], orient='h')"
   ]
  },
  {
   "cell_type": "markdown",
   "id": "5fdf5296-5df4-48d7-b2d0-e227db0a2812",
   "metadata": {},
   "source": [
    "### Analysing feature: HouseAge"
   ]
  },
  {
   "cell_type": "code",
   "execution_count": 33,
   "id": "d687158d-30d7-4839-9428-5082f21a97fd",
   "metadata": {},
   "outputs": [
    {
     "data": {
      "text/plain": [
       "<seaborn.axisgrid.FacetGrid at 0x163acc3e0>"
      ]
     },
     "execution_count": 33,
     "metadata": {},
     "output_type": "execute_result"
    },
    {
     "data": {
      "image/png": "[encoded data removed]",
      "text/plain": [
       "<Figure size 500x500 with 1 Axes>"
      ]
     },
     "metadata": {},
     "output_type": "display_data"
    }
   ],
   "source": [
    "sns.displot(data['HouseAge'])"
   ]
  },
  {
   "cell_type": "code",
   "execution_count": 34,
   "id": "83b83609-2ca9-462b-ad88-17eef50aee7a",
   "metadata": {},
   "outputs": [
    {
     "data": {
      "text/plain": [
       "<Axes: xlabel='HouseAge'>"
      ]
     },
     "execution_count": 34,
     "metadata": {},
     "output_type": "execute_result"
    },
    {
     "data": {
      "image/png": "[encoded data removed]",
      "text/plain": [
       "<Figure size 640x480 with 1 Axes>"
      ]
     },
     "metadata": {},
     "output_type": "display_data"
    }
   ],
   "source": [
    "sns.boxplot(data['HouseAge'], orient = 'h')"
   ]
  },
  {
   "cell_type": "markdown",
   "id": "5f2c0631-6e49-4321-a993-f476dee96656",
   "metadata": {},
   "source": [
    "### Analysing feature: AveRooms"
   ]
  },
  {
   "cell_type": "code",
   "execution_count": 36,
   "id": "62306db8-06e5-46a1-9124-5f9fc1881d53",
   "metadata": {},
   "outputs": [
    {
     "data": {
      "text/plain": [
       "<seaborn.axisgrid.FacetGrid at 0x164ddc4a0>"
      ]
     },
     "execution_count": 36,
     "metadata": {},
     "output_type": "execute_result"
    },
    {
     "data": {
      "image/png": "[encoded data removed]",
      "text/plain": [
       "<Figure size 500x500 with 1 Axes>"
      ]
     },
     "metadata": {},
     "output_type": "display_data"
    }
   ],
   "source": [
    "sns.displot(data['AveRooms'])"
   ]
  },
  {
   "cell_type": "code",
   "execution_count": 37,
   "id": "68b8bc3d-72cf-4424-91a0-696cdb737a48",
   "metadata": {},
   "outputs": [
    {
     "data": {
      "text/plain": [
       "<Axes: xlabel='AveRooms'>"
      ]
     },
     "execution_count": 37,
     "metadata": {},
     "output_type": "execute_result"
    },
    {
     "data": {
      "image/png": "[encoded data removed]",
      "text/plain": [
       "<Figure size 640x480 with 1 Axes>"
      ]
     },
     "metadata": {},
     "output_type": "display_data"
    }
   ],
   "source": [
    "sns.boxplot(data['AveRooms'], orient = 'h')"
   ]
  },
  {
   "cell_type": "code",
   "execution_count": 38,
   "id": "bebf52ec-08e9-46b0-a1f2-6d3e2cf5f65d",
   "metadata": {},
   "outputs": [
    {
     "data": {
      "text/plain": [
       "20.697868956710646"
      ]
     },
     "execution_count": 38,
     "metadata": {},
     "output_type": "execute_result"
    }
   ],
   "source": [
    "data['AveRooms'].skew()\n",
    "# Highly right skewed"
   ]
  },
  {
   "cell_type": "markdown",
   "id": "140ab7d6-039b-463e-8f9b-dca683fcc2e6",
   "metadata": {},
   "source": [
    "### Analysing feature: AveRooms after outlier treatment"
   ]
  },
  {
   "cell_type": "code",
   "execution_count": 40,
   "id": "c5461ac3-f307-486e-a8e3-dfe8401cf52c",
   "metadata": {},
   "outputs": [
    {
     "name": "stdout",
     "output_type": "stream",
     "text": [
      "Q1: 4.440716235896959 Q3: 6.052380952380952 IQR: 1.6116647164839932\n",
      "Lower Whisker: 2.023219161170969 Upper Whisker: 8.469878027106942\n"
     ]
    }
   ],
   "source": [
    "upper_limit = outlier_iqr(data['AveRooms'])"
   ]
  },
  {
   "cell_type": "code",
   "execution_count": 41,
   "id": "691137bc-fcb0-4db6-ae98-a413f8d4d3d5",
   "metadata": {},
   "outputs": [],
   "source": [
    "# Removing all the data higher than upper whsiker\n",
    "data = data[data['AveRooms'] < upper_limit]"
   ]
  },
  {
   "cell_type": "code",
   "execution_count": 42,
   "id": "27d4c394-55eb-4674-83a9-12869a2fb7b9",
   "metadata": {},
   "outputs": [
    {
     "data": {
      "text/plain": [
       "<seaborn.axisgrid.FacetGrid at 0x1639a14f0>"
      ]
     },
     "execution_count": 42,
     "metadata": {},
     "output_type": "execute_result"
    },
    {
     "data": {
      "image/png": "[encoded data removed]",
      "text/plain": [
       "<Figure size 500x500 with 1 Axes>"
      ]
     },
     "metadata": {},
     "output_type": "display_data"
    }
   ],
   "source": [
    "sns.displot(data['AveRooms'])"
   ]
  },
  {
   "cell_type": "code",
   "execution_count": 43,
   "id": "35e8749a-b611-4814-80fc-1da7a8a1a795",
   "metadata": {},
   "outputs": [
    {
     "data": {
      "text/plain": [
       "<Axes: xlabel='AveRooms'>"
      ]
     },
     "execution_count": 43,
     "metadata": {},
     "output_type": "execute_result"
    },
    {
     "data": {
      "image/png": "[encoded data removed]",
      "text/plain": [
       "<Figure size 640x480 with 1 Axes>"
      ]
     },
     "metadata": {},
     "output_type": "display_data"
    }
   ],
   "source": [
    "sns.boxplot(data['AveRooms'], orient = 'h')"
   ]
  },
  {
   "cell_type": "code",
   "execution_count": 44,
   "id": "5504265d-37c3-438a-8bca-cc5e175dc92d",
   "metadata": {},
   "outputs": [
    {
     "data": {
      "text/plain": [
       "0.14569497123326713"
      ]
     },
     "execution_count": 44,
     "metadata": {},
     "output_type": "execute_result"
    }
   ],
   "source": [
    "data['AveRooms'].skew()\n",
    "# Highly right skewed"
   ]
  },
  {
   "cell_type": "markdown",
   "id": "ee7ba91f-492f-44a7-8df7-8ecb5d33387d",
   "metadata": {},
   "source": [
    "### Analysing feature: AveBedrms"
   ]
  },
  {
   "cell_type": "code",
   "execution_count": 46,
   "id": "65fdb51b-b47a-4a26-92f7-31c3fa3fad83",
   "metadata": {},
   "outputs": [
    {
     "data": {
      "text/plain": [
       "<seaborn.axisgrid.FacetGrid at 0x166439fa0>"
      ]
     },
     "execution_count": 46,
     "metadata": {},
     "output_type": "execute_result"
    },
    {
     "data": {
      "image/png": "[encoded data removed]",
      "text/plain": [
       "<Figure size 500x500 with 1 Axes>"
      ]
     },
     "metadata": {},
     "output_type": "display_data"
    }
   ],
   "source": [
    "sns.displot(data['AveBedrms'])"
   ]
  },
  {
   "cell_type": "code",
   "execution_count": 47,
   "id": "0386a12f-c346-46f7-b98b-2b42cc2cc7f6",
   "metadata": {},
   "outputs": [
    {
     "data": {
      "text/plain": [
       "<Axes: xlabel='AveBedrms'>"
      ]
     },
     "execution_count": 47,
     "metadata": {},
     "output_type": "execute_result"
    },
    {
     "data": {
      "image/png": "[encoded data removed]",
      "text/plain": [
       "<Figure size 640x480 with 1 Axes>"
      ]
     },
     "metadata": {},
     "output_type": "display_data"
    }
   ],
   "source": [
    "sns.boxplot(data['AveBedrms'], orient = 'h')"
   ]
  },
  {
   "cell_type": "code",
   "execution_count": 48,
   "id": "785d8041-12fa-4aa9-a87f-d825a725e2f4",
   "metadata": {},
   "outputs": [
    {
     "data": {
      "text/plain": [
       "3.2503300288066157"
      ]
     },
     "execution_count": 48,
     "metadata": {},
     "output_type": "execute_result"
    }
   ],
   "source": [
    "data['AveBedrms'].skew()\n",
    "# Highly right skewed"
   ]
  },
  {
   "cell_type": "markdown",
   "id": "21d6bc5f-a224-46d0-846b-8c266fbdfe74",
   "metadata": {},
   "source": [
    "### Analysing feature: Population"
   ]
  },
  {
   "cell_type": "code",
   "execution_count": 50,
   "id": "d03dfffc-b563-495e-96d6-20b1434f25aa",
   "metadata": {},
   "outputs": [
    {
     "data": {
      "text/plain": [
       "<seaborn.axisgrid.FacetGrid at 0x166801fa0>"
      ]
     },
     "execution_count": 50,
     "metadata": {},
     "output_type": "execute_result"
    },
    {
     "data": {
      "image/png": "[encoded data removed]",
      "text/plain": [
       "<Figure size 500x500 with 1 Axes>"
      ]
     },
     "metadata": {},
     "output_type": "display_data"
    }
   ],
   "source": [
    "sns.displot(data['Population'])"
   ]
  },
  {
   "cell_type": "code",
   "execution_count": 51,
   "id": "16930c55-e4c4-4688-9a90-b0043b0f01fa",
   "metadata": {},
   "outputs": [
    {
     "data": {
      "text/plain": [
       "<Axes: xlabel='Population'>"
      ]
     },
     "execution_count": 51,
     "metadata": {},
     "output_type": "execute_result"
    },
    {
     "data": {
      "image/png": "[encoded data removed]",
      "text/plain": [
       "<Figure size 640x480 with 1 Axes>"
      ]
     },
     "metadata": {},
     "output_type": "display_data"
    }
   ],
   "source": [
    "sns.boxplot(data['Population'], orient = 'h')"
   ]
  },
  {
   "cell_type": "markdown",
   "id": "e1a09366-a1c0-4503-87d1-17ed65979a93",
   "metadata": {},
   "source": [
    "### Analysing feature: AveOccup"
   ]
  },
  {
   "cell_type": "code",
   "execution_count": 53,
   "id": "bce281d7-83b9-447c-b4ce-c80332811a59",
   "metadata": {},
   "outputs": [
    {
     "data": {
      "text/plain": [
       "<seaborn.axisgrid.FacetGrid at 0x166e10aa0>"
      ]
     },
     "execution_count": 53,
     "metadata": {},
     "output_type": "execute_result"
    },
    {
     "data": {
      "image/png": "[encoded data removed]",
      "text/plain": [
       "<Figure size 500x500 with 1 Axes>"
      ]
     },
     "metadata": {},
     "output_type": "display_data"
    }
   ],
   "source": [
    "sns.displot(data['AveOccup'])"
   ]
  },
  {
   "cell_type": "code",
   "execution_count": 54,
   "id": "8f6e6009-8e7d-4ed1-bc3e-7296e6c90f37",
   "metadata": {},
   "outputs": [
    {
     "data": {
      "text/plain": [
       "<Axes: xlabel='AveOccup'>"
      ]
     },
     "execution_count": 54,
     "metadata": {},
     "output_type": "execute_result"
    },
    {
     "data": {
      "image/png": "[encoded data removed]",
      "text/plain": [
       "<Figure size 640x480 with 1 Axes>"
      ]
     },
     "metadata": {},
     "output_type": "display_data"
    }
   ],
   "source": [
    "sns.boxplot(data['AveOccup'], orient = 'h')"
   ]
  },
  {
   "cell_type": "markdown",
   "id": "adfacb14-9a87-4bf6-b19e-c696a7b5df71",
   "metadata": {},
   "source": [
    "### Analysing feature: AveOccup after outlier treatment"
   ]
  },
  {
   "cell_type": "code",
   "execution_count": 56,
   "id": "73f5bdc6-a83e-4072-bd5b-6ce94e824497",
   "metadata": {},
   "outputs": [],
   "source": [
    "cap = np.percentile(data['AveOccup'], 99)"
   ]
  },
  {
   "cell_type": "code",
   "execution_count": 57,
   "id": "c36bc855-73bf-4b0f-8e14-44fc95e47893",
   "metadata": {},
   "outputs": [],
   "source": [
    "data = data[data['AveOccup'] < cap]"
   ]
  },
  {
   "cell_type": "code",
   "execution_count": 58,
   "id": "fb1a63b9-83e0-47b4-93b1-379f9163610b",
   "metadata": {},
   "outputs": [
    {
     "data": {
      "text/plain": [
       "<seaborn.axisgrid.FacetGrid at 0x165d5d640>"
      ]
     },
     "execution_count": 58,
     "metadata": {},
     "output_type": "execute_result"
    },
    {
     "data": {
      "image/png": "[encoded data removed]",
      "text/plain": [
       "<Figure size 500x500 with 1 Axes>"
      ]
     },
     "metadata": {},
     "output_type": "display_data"
    }
   ],
   "source": [
    "sns.displot(data['AveOccup'])"
   ]
  },
  {
   "cell_type": "code",
   "execution_count": 59,
   "id": "9d063740-7f6a-4289-8f0e-9a10d32c41ea",
   "metadata": {},
   "outputs": [
    {
     "data": {
      "text/plain": [
       "<Axes: xlabel='AveOccup'>"
      ]
     },
     "execution_count": 59,
     "metadata": {},
     "output_type": "execute_result"
    },
    {
     "data": {
      "image/png": "[encoded data removed]",
      "text/plain": [
       "<Figure size 640x480 with 1 Axes>"
      ]
     },
     "metadata": {},
     "output_type": "display_data"
    }
   ],
   "source": [
    "sns.boxplot(data['AveOccup'], orient = 'h')"
   ]
  },
  {
   "cell_type": "code",
   "execution_count": 60,
   "id": "50d5a401-e58d-41e5-81e3-ae90013aee05",
   "metadata": {},
   "outputs": [],
   "source": [
    "# Adding new feature houses\n",
    "data['Houses'] = data['Population']/ data['AveOccup']"
   ]
  },
  {
   "cell_type": "markdown",
   "id": "9a3bbb58-36cb-406c-9e91-57dca7012601",
   "metadata": {},
   "source": [
    "### Analysing feature: Houses"
   ]
  },
  {
   "cell_type": "code",
   "execution_count": 62,
   "id": "d331f69a-2fba-4a4d-b8bf-4f6a1398387f",
   "metadata": {},
   "outputs": [
    {
     "data": {
      "text/plain": [
       "<seaborn.axisgrid.FacetGrid at 0x302cab230>"
      ]
     },
     "execution_count": 62,
     "metadata": {},
     "output_type": "execute_result"
    },
    {
     "data": {
      "image/png": "[encoded data removed]",
      "text/plain": [
       "<Figure size 500x500 with 1 Axes>"
      ]
     },
     "metadata": {},
     "output_type": "display_data"
    }
   ],
   "source": [
    "sns.displot(data['Houses'])"
   ]
  },
  {
   "cell_type": "code",
   "execution_count": 63,
   "id": "9eadc636-ffac-45c0-9b63-7fa3d4057f03",
   "metadata": {},
   "outputs": [
    {
     "data": {
      "text/plain": [
       "<Axes: xlabel='Houses'>"
      ]
     },
     "execution_count": 63,
     "metadata": {},
     "output_type": "execute_result"
    },
    {
     "data": {
      "image/png": "[encoded data removed]",
      "text/plain": [
       "<Figure size 640x480 with 1 Axes>"
      ]
     },
     "metadata": {},
     "output_type": "display_data"
    }
   ],
   "source": [
    "sns.boxplot(data['Houses'], orient = 'h')"
   ]
  },
  {
   "cell_type": "code",
   "execution_count": 64,
   "id": "c96f3c02-25de-482e-a091-a64ef26cff10",
   "metadata": {},
   "outputs": [
    {
     "data": {
      "text/html": [
       "<div>\n",
       "<style scoped>\n",
       "    .dataframe tbody tr th:only-of-type {\n",
       "        vertical-align: middle;\n",
       "    }\n",
       "\n",
       "    .dataframe tbody tr th {\n",
       "        vertical-align: top;\n",
       "    }\n",
       "\n",
       "    .dataframe thead th {\n",
       "        text-align: right;\n",
       "    }\n",
       "</style>\n",
       "<table border=\"1\" class=\"dataframe\">\n",
       "  <thead>\n",
       "    <tr style=\"text-align: right;\">\n",
       "      <th></th>\n",
       "      <th>MedInc</th>\n",
       "      <th>HouseAge</th>\n",
       "      <th>AveRooms</th>\n",
       "      <th>AveBedrms</th>\n",
       "      <th>Population</th>\n",
       "      <th>AveOccup</th>\n",
       "      <th>Latitude</th>\n",
       "      <th>Longitude</th>\n",
       "      <th>Price_in_100k</th>\n",
       "      <th>Houses</th>\n",
       "    </tr>\n",
       "  </thead>\n",
       "  <tbody>\n",
       "    <tr>\n",
       "      <th>count</th>\n",
       "      <td>19972.000000</td>\n",
       "      <td>19972.000000</td>\n",
       "      <td>19972.000000</td>\n",
       "      <td>19972.000000</td>\n",
       "      <td>19972.000000</td>\n",
       "      <td>19972.000000</td>\n",
       "      <td>19972.000000</td>\n",
       "      <td>19972.000000</td>\n",
       "      <td>19972.000000</td>\n",
       "      <td>19972.000000</td>\n",
       "    </tr>\n",
       "    <tr>\n",
       "      <th>mean</th>\n",
       "      <td>3.767203</td>\n",
       "      <td>28.815742</td>\n",
       "      <td>5.238001</td>\n",
       "      <td>1.062101</td>\n",
       "      <td>1430.165181</td>\n",
       "      <td>2.894084</td>\n",
       "      <td>35.626536</td>\n",
       "      <td>-119.584620</td>\n",
       "      <td>2.059050</td>\n",
       "      <td>505.612057</td>\n",
       "    </tr>\n",
       "    <tr>\n",
       "      <th>std</th>\n",
       "      <td>1.542020</td>\n",
       "      <td>12.516447</td>\n",
       "      <td>1.161811</td>\n",
       "      <td>0.111731</td>\n",
       "      <td>1097.194228</td>\n",
       "      <td>0.696765</td>\n",
       "      <td>2.130412</td>\n",
       "      <td>2.001742</td>\n",
       "      <td>1.138688</td>\n",
       "      <td>381.437128</td>\n",
       "    </tr>\n",
       "    <tr>\n",
       "      <th>min</th>\n",
       "      <td>1.600570</td>\n",
       "      <td>1.000000</td>\n",
       "      <td>0.846154</td>\n",
       "      <td>0.333333</td>\n",
       "      <td>3.000000</td>\n",
       "      <td>0.750000</td>\n",
       "      <td>32.540000</td>\n",
       "      <td>-124.350000</td>\n",
       "      <td>0.149990</td>\n",
       "      <td>2.000000</td>\n",
       "    </tr>\n",
       "    <tr>\n",
       "      <th>25%</th>\n",
       "      <td>2.558800</td>\n",
       "      <td>18.000000</td>\n",
       "      <td>4.430393</td>\n",
       "      <td>1.005013</td>\n",
       "      <td>798.000000</td>\n",
       "      <td>2.428571</td>\n",
       "      <td>33.930000</td>\n",
       "      <td>-121.810000</td>\n",
       "      <td>1.193000</td>\n",
       "      <td>285.000000</td>\n",
       "    </tr>\n",
       "    <tr>\n",
       "      <th>50%</th>\n",
       "      <td>3.526800</td>\n",
       "      <td>29.000000</td>\n",
       "      <td>5.201037</td>\n",
       "      <td>1.047289</td>\n",
       "      <td>1173.000000</td>\n",
       "      <td>2.813528</td>\n",
       "      <td>34.250000</td>\n",
       "      <td>-118.500000</td>\n",
       "      <td>1.803000</td>\n",
       "      <td>414.000000</td>\n",
       "    </tr>\n",
       "    <tr>\n",
       "      <th>75%</th>\n",
       "      <td>4.722200</td>\n",
       "      <td>37.000000</td>\n",
       "      <td>5.987002</td>\n",
       "      <td>1.095890</td>\n",
       "      <td>1726.250000</td>\n",
       "      <td>3.270292</td>\n",
       "      <td>37.710000</td>\n",
       "      <td>-118.020000</td>\n",
       "      <td>2.639250</td>\n",
       "      <td>609.000000</td>\n",
       "    </tr>\n",
       "    <tr>\n",
       "      <th>max</th>\n",
       "      <td>7.300305</td>\n",
       "      <td>52.000000</td>\n",
       "      <td>8.469738</td>\n",
       "      <td>3.099338</td>\n",
       "      <td>28566.000000</td>\n",
       "      <td>5.392384</td>\n",
       "      <td>41.950000</td>\n",
       "      <td>-114.550000</td>\n",
       "      <td>5.000010</td>\n",
       "      <td>6082.000000</td>\n",
       "    </tr>\n",
       "  </tbody>\n",
       "</table>\n",
       "</div>"
      ],
      "text/plain": [
       "             MedInc      HouseAge      AveRooms     AveBedrms    Population  \\\n",
       "count  19972.000000  19972.000000  19972.000000  19972.000000  19972.000000   \n",
       "mean       3.767203     28.815742      5.238001      1.062101   1430.165181   \n",
       "std        1.542020     12.516447      1.161811      0.111731   1097.194228   \n",
       "min        1.600570      1.000000      0.846154      0.333333      3.000000   \n",
       "25%        2.558800     18.000000      4.430393      1.005013    798.000000   \n",
       "50%        3.526800     29.000000      5.201037      1.047289   1173.000000   \n",
       "75%        4.722200     37.000000      5.987002      1.095890   1726.250000   \n",
       "max        7.300305     52.000000      8.469738      3.099338  28566.000000   \n",
       "\n",
       "           AveOccup      Latitude     Longitude  Price_in_100k        Houses  \n",
       "count  19972.000000  19972.000000  19972.000000   19972.000000  19972.000000  \n",
       "mean       2.894084     35.626536   -119.584620       2.059050    505.612057  \n",
       "std        0.696765      2.130412      2.001742       1.138688    381.437128  \n",
       "min        0.750000     32.540000   -124.350000       0.149990      2.000000  \n",
       "25%        2.428571     33.930000   -121.810000       1.193000    285.000000  \n",
       "50%        2.813528     34.250000   -118.500000       1.803000    414.000000  \n",
       "75%        3.270292     37.710000   -118.020000       2.639250    609.000000  \n",
       "max        5.392384     41.950000   -114.550000       5.000010   6082.000000  "
      ]
     },
     "execution_count": 64,
     "metadata": {},
     "output_type": "execute_result"
    }
   ],
   "source": [
    "data.describe()"
   ]
  },
  {
   "cell_type": "markdown",
   "id": "06d14d51-b75b-460c-945f-6ecf2347a058",
   "metadata": {},
   "source": [
    "### Checking multicorrelation amoung features"
   ]
  },
  {
   "cell_type": "code",
   "execution_count": 66,
   "id": "5a36eb9a-c865-4430-9081-d22ccaada884",
   "metadata": {},
   "outputs": [
    {
     "data": {
      "text/html": [
       "<div>\n",
       "<style scoped>\n",
       "    .dataframe tbody tr th:only-of-type {\n",
       "        vertical-align: middle;\n",
       "    }\n",
       "\n",
       "    .dataframe tbody tr th {\n",
       "        vertical-align: top;\n",
       "    }\n",
       "\n",
       "    .dataframe thead th {\n",
       "        text-align: right;\n",
       "    }\n",
       "</style>\n",
       "<table border=\"1\" class=\"dataframe\">\n",
       "  <thead>\n",
       "    <tr style=\"text-align: right;\">\n",
       "      <th></th>\n",
       "      <th>MedInc</th>\n",
       "      <th>HouseAge</th>\n",
       "      <th>AveRooms</th>\n",
       "      <th>AveBedrms</th>\n",
       "      <th>Population</th>\n",
       "      <th>AveOccup</th>\n",
       "      <th>Latitude</th>\n",
       "      <th>Longitude</th>\n",
       "      <th>Price_in_100k</th>\n",
       "      <th>Houses</th>\n",
       "    </tr>\n",
       "  </thead>\n",
       "  <tbody>\n",
       "    <tr>\n",
       "      <th>MedInc</th>\n",
       "      <td>1.000000</td>\n",
       "      <td>-0.146050</td>\n",
       "      <td>0.681968</td>\n",
       "      <td>-0.228192</td>\n",
       "      <td>0.025036</td>\n",
       "      <td>-0.080595</td>\n",
       "      <td>-0.081321</td>\n",
       "      <td>-0.020180</td>\n",
       "      <td>0.676003</td>\n",
       "      <td>0.034548</td>\n",
       "    </tr>\n",
       "    <tr>\n",
       "      <th>HouseAge</th>\n",
       "      <td>-0.146050</td>\n",
       "      <td>1.000000</td>\n",
       "      <td>-0.213080</td>\n",
       "      <td>-0.107401</td>\n",
       "      <td>-0.314878</td>\n",
       "      <td>-0.012277</td>\n",
       "      <td>0.013217</td>\n",
       "      <td>-0.103541</td>\n",
       "      <td>0.110093</td>\n",
       "      <td>-0.313815</td>\n",
       "    </tr>\n",
       "    <tr>\n",
       "      <th>AveRooms</th>\n",
       "      <td>0.681968</td>\n",
       "      <td>-0.213080</td>\n",
       "      <td>1.000000</td>\n",
       "      <td>0.146934</td>\n",
       "      <td>-0.025502</td>\n",
       "      <td>-0.016234</td>\n",
       "      <td>0.127961</td>\n",
       "      <td>-0.090050</td>\n",
       "      <td>0.311957</td>\n",
       "      <td>-0.051356</td>\n",
       "    </tr>\n",
       "    <tr>\n",
       "      <th>AveBedrms</th>\n",
       "      <td>-0.228192</td>\n",
       "      <td>-0.107401</td>\n",
       "      <td>0.146934</td>\n",
       "      <td>1.000000</td>\n",
       "      <td>-0.014554</td>\n",
       "      <td>-0.110367</td>\n",
       "      <td>0.066912</td>\n",
       "      <td>-0.002361</td>\n",
       "      <td>-0.106321</td>\n",
       "      <td>0.023624</td>\n",
       "    </tr>\n",
       "    <tr>\n",
       "      <th>Population</th>\n",
       "      <td>0.025036</td>\n",
       "      <td>-0.314878</td>\n",
       "      <td>-0.025502</td>\n",
       "      <td>-0.014554</td>\n",
       "      <td>1.000000</td>\n",
       "      <td>0.181784</td>\n",
       "      <td>-0.104611</td>\n",
       "      <td>0.102536</td>\n",
       "      <td>-0.024112</td>\n",
       "      <td>0.925157</td>\n",
       "    </tr>\n",
       "    <tr>\n",
       "      <th>AveOccup</th>\n",
       "      <td>-0.080595</td>\n",
       "      <td>-0.012277</td>\n",
       "      <td>-0.016234</td>\n",
       "      <td>-0.110367</td>\n",
       "      <td>0.181784</td>\n",
       "      <td>1.000000</td>\n",
       "      <td>-0.168913</td>\n",
       "      <td>0.185299</td>\n",
       "      <td>-0.297757</td>\n",
       "      <td>-0.124618</td>\n",
       "    </tr>\n",
       "    <tr>\n",
       "      <th>Latitude</th>\n",
       "      <td>-0.081321</td>\n",
       "      <td>0.013217</td>\n",
       "      <td>0.127961</td>\n",
       "      <td>0.066912</td>\n",
       "      <td>-0.104611</td>\n",
       "      <td>-0.168913</td>\n",
       "      <td>1.000000</td>\n",
       "      <td>-0.929316</td>\n",
       "      <td>-0.143099</td>\n",
       "      <td>-0.064566</td>\n",
       "    </tr>\n",
       "    <tr>\n",
       "      <th>Longitude</th>\n",
       "      <td>-0.020180</td>\n",
       "      <td>-0.103541</td>\n",
       "      <td>-0.090050</td>\n",
       "      <td>-0.002361</td>\n",
       "      <td>0.102536</td>\n",
       "      <td>0.185299</td>\n",
       "      <td>-0.929316</td>\n",
       "      <td>1.000000</td>\n",
       "      <td>-0.046346</td>\n",
       "      <td>0.055007</td>\n",
       "    </tr>\n",
       "    <tr>\n",
       "      <th>Price_in_100k</th>\n",
       "      <td>0.676003</td>\n",
       "      <td>0.110093</td>\n",
       "      <td>0.311957</td>\n",
       "      <td>-0.106321</td>\n",
       "      <td>-0.024112</td>\n",
       "      <td>-0.297757</td>\n",
       "      <td>-0.143099</td>\n",
       "      <td>-0.046346</td>\n",
       "      <td>1.000000</td>\n",
       "      <td>0.069445</td>\n",
       "    </tr>\n",
       "    <tr>\n",
       "      <th>Houses</th>\n",
       "      <td>0.034548</td>\n",
       "      <td>-0.313815</td>\n",
       "      <td>-0.051356</td>\n",
       "      <td>0.023624</td>\n",
       "      <td>0.925157</td>\n",
       "      <td>-0.124618</td>\n",
       "      <td>-0.064566</td>\n",
       "      <td>0.055007</td>\n",
       "      <td>0.069445</td>\n",
       "      <td>1.000000</td>\n",
       "    </tr>\n",
       "  </tbody>\n",
       "</table>\n",
       "</div>"
      ],
      "text/plain": [
       "                 MedInc  HouseAge  AveRooms  AveBedrms  Population  AveOccup  \\\n",
       "MedInc         1.000000 -0.146050  0.681968  -0.228192    0.025036 -0.080595   \n",
       "HouseAge      -0.146050  1.000000 -0.213080  -0.107401   -0.314878 -0.012277   \n",
       "AveRooms       0.681968 -0.213080  1.000000   0.146934   -0.025502 -0.016234   \n",
       "AveBedrms     -0.228192 -0.107401  0.146934   1.000000   -0.014554 -0.110367   \n",
       "Population     0.025036 -0.314878 -0.025502  -0.014554    1.000000  0.181784   \n",
       "AveOccup      -0.080595 -0.012277 -0.016234  -0.110367    0.181784  1.000000   \n",
       "Latitude      -0.081321  0.013217  0.127961   0.066912   -0.104611 -0.168913   \n",
       "Longitude     -0.020180 -0.103541 -0.090050  -0.002361    0.102536  0.185299   \n",
       "Price_in_100k  0.676003  0.110093  0.311957  -0.106321   -0.024112 -0.297757   \n",
       "Houses         0.034548 -0.313815 -0.051356   0.023624    0.925157 -0.124618   \n",
       "\n",
       "               Latitude  Longitude  Price_in_100k    Houses  \n",
       "MedInc        -0.081321  -0.020180       0.676003  0.034548  \n",
       "HouseAge       0.013217  -0.103541       0.110093 -0.313815  \n",
       "AveRooms       0.127961  -0.090050       0.311957 -0.051356  \n",
       "AveBedrms      0.066912  -0.002361      -0.106321  0.023624  \n",
       "Population    -0.104611   0.102536      -0.024112  0.925157  \n",
       "AveOccup      -0.168913   0.185299      -0.297757 -0.124618  \n",
       "Latitude       1.000000  -0.929316      -0.143099 -0.064566  \n",
       "Longitude     -0.929316   1.000000      -0.046346  0.055007  \n",
       "Price_in_100k -0.143099  -0.046346       1.000000  0.069445  \n",
       "Houses        -0.064566   0.055007       0.069445  1.000000  "
      ]
     },
     "execution_count": 66,
     "metadata": {},
     "output_type": "execute_result"
    }
   ],
   "source": [
    "house_corr1 = data.corr(method ='pearson')\n",
    "house_corr1"
   ]
  },
  {
   "cell_type": "code",
   "execution_count": 67,
   "id": "179948ec-e3d1-4208-92e9-cbfebbd903b4",
   "metadata": {},
   "outputs": [
    {
     "data": {
      "text/plain": [
       "Text(0.5, 1.0, 'Correlation Matrix')"
      ]
     },
     "execution_count": 67,
     "metadata": {},
     "output_type": "execute_result"
    },
    {
     "data": {
      "image/png": "[encoded data removed]",
      "text/plain": [
       "<Figure size 2200x1200 with 2 Axes>"
      ]
     },
     "metadata": {},
     "output_type": "display_data"
    }
   ],
   "source": [
    "# Plotting heatmap\n",
    "plt.subplots(figsize =(22, 12)) \n",
    "sns.heatmap(house_corr1,cmap=\"coolwarm\",annot=True, mask = np.triu(np.ones_like(house_corr1, dtype=bool)))\n",
    "plt.title(\"Correlation Matrix\", size=30)"
   ]
  },
  {
   "cell_type": "code",
   "execution_count": 68,
   "id": "f4b958f6-f5bd-4fdf-9f35-e3b8e56e86d6",
   "metadata": {},
   "outputs": [
    {
     "data": {
      "text/plain": [
       "Text(0.5, 1.0, 'Correlation with Price Variable')"
      ]
     },
     "execution_count": 68,
     "metadata": {},
     "output_type": "execute_result"
    },
    {
     "data": {
      "image/png": "[encoded data removed]",
      "text/plain": [
       "<Figure size 500x1000 with 2 Axes>"
      ]
     },
     "metadata": {},
     "output_type": "display_data"
    }
   ],
   "source": [
    "top_features = house_corr1.corr()[['Price_in_100k']].sort_values(by=['Price_in_100k'],ascending=False).head(30)\n",
    "plt.figure(figsize=(5,10))\n",
    "sns.heatmap(top_features,cmap='rainbow',annot=True,annot_kws={\"size\": 16},vmin=-1)\n",
    "plt.title(\"Correlation with Price Variable\", size=15)"
   ]
  },
  {
   "cell_type": "code",
   "execution_count": 69,
   "id": "a12063e7-a91f-4624-afeb-9e8d9ba37d02",
   "metadata": {},
   "outputs": [
    {
     "data": {
      "image/png": "[encoded data removed]",
      "text/plain": [
       "<Figure size 2200x1000 with 1 Axes>"
      ]
     },
     "metadata": {},
     "output_type": "display_data"
    }
   ],
   "source": [
    "plt.figure(figsize=(22,10))\n",
    "data.boxplot();"
   ]
  },
  {
   "cell_type": "markdown",
   "id": "066b1163-4b63-47a1-bc1f-f29d75a41916",
   "metadata": {},
   "source": [
    "## Linear Regression Model training "
   ]
  },
  {
   "cell_type": "code",
   "execution_count": 71,
   "id": "6b001863-8bab-44f4-abbb-c7c1952b67df",
   "metadata": {},
   "outputs": [],
   "source": [
    "train_df, test_df = train_test_split(data, test_size=0.2)"
   ]
  },
  {
   "cell_type": "code",
   "execution_count": 72,
   "id": "8ea0d5d3-1a0a-4d74-8e26-d2a7e626d2ea",
   "metadata": {},
   "outputs": [
    {
     "data": {
      "text/plain": [
       "Index(['MedInc', 'HouseAge', 'AveRooms', 'AveBedrms', 'Population', 'AveOccup',\n",
       "       'Latitude', 'Longitude', 'Price_in_100k', 'Houses'],\n",
       "      dtype='object')"
      ]
     },
     "execution_count": 72,
     "metadata": {},
     "output_type": "execute_result"
    }
   ],
   "source": [
    "data.columns"
   ]
  },
  {
   "cell_type": "markdown",
   "id": "e28ef99c-41de-473c-aa8d-0f92766467b9",
   "metadata": {},
   "source": [
    " #### All features"
   ]
  },
  {
   "cell_type": "code",
   "execution_count": 74,
   "id": "deee2c57-5f76-4ae0-9d6d-84838506f64f",
   "metadata": {},
   "outputs": [],
   "source": [
    "f_1 = 'Price_in_100k~MedInc+HouseAge+AveRooms+AveBedrms+Population+AveOccup+Latitude+Longitude+Houses'"
   ]
  },
  {
   "cell_type": "code",
   "execution_count": 75,
   "id": "dd4c6eec-8cd6-4342-a41e-ae4e252f2899",
   "metadata": {},
   "outputs": [
    {
     "data": {
      "text/html": [
       "<table class=\"simpletable\">\n",
       "<caption>OLS Regression Results</caption>\n",
       "<tr>\n",
       "  <th>Dep. Variable:</th>      <td>Price_in_100k</td>  <th>  R-squared:         </th> <td>   0.656</td> \n",
       "</tr>\n",
       "<tr>\n",
       "  <th>Model:</th>                   <td>OLS</td>       <th>  Adj. R-squared:    </th> <td>   0.656</td> \n",
       "</tr>\n",
       "<tr>\n",
       "  <th>Method:</th>             <td>Least Squares</td>  <th>  F-statistic:       </th> <td>   3388.</td> \n",
       "</tr>\n",
       "<tr>\n",
       "  <th>Date:</th>             <td>Thu, 15 May 2025</td> <th>  Prob (F-statistic):</th>  <td>  0.00</td>  \n",
       "</tr>\n",
       "<tr>\n",
       "  <th>Time:</th>                 <td>11:28:10</td>     <th>  Log-Likelihood:    </th> <td> -16233.</td> \n",
       "</tr>\n",
       "<tr>\n",
       "  <th>No. Observations:</th>      <td> 15977</td>      <th>  AIC:               </th> <td>3.249e+04</td>\n",
       "</tr>\n",
       "<tr>\n",
       "  <th>Df Residuals:</th>          <td> 15967</td>      <th>  BIC:               </th> <td>3.256e+04</td>\n",
       "</tr>\n",
       "<tr>\n",
       "  <th>Df Model:</th>              <td>     9</td>      <th>                     </th>     <td> </td>    \n",
       "</tr>\n",
       "<tr>\n",
       "  <th>Covariance Type:</th>      <td>nonrobust</td>    <th>                     </th>     <td> </td>    \n",
       "</tr>\n",
       "</table>\n",
       "<table class=\"simpletable\">\n",
       "<tr>\n",
       "       <td></td>         <th>coef</th>     <th>std err</th>      <th>t</th>      <th>P>|t|</th>  <th>[0.025</th>    <th>0.975]</th>  \n",
       "</tr>\n",
       "<tr>\n",
       "  <th>Intercept</th>  <td>  -32.6088</td> <td>    0.730</td> <td>  -44.684</td> <td> 0.000</td> <td>  -34.039</td> <td>  -31.178</td>\n",
       "</tr>\n",
       "<tr>\n",
       "  <th>MedInc</th>     <td>    0.5264</td> <td>    0.006</td> <td>   85.585</td> <td> 0.000</td> <td>    0.514</td> <td>    0.538</td>\n",
       "</tr>\n",
       "<tr>\n",
       "  <th>HouseAge</th>   <td>    0.0135</td> <td>    0.000</td> <td>   28.257</td> <td> 0.000</td> <td>    0.013</td> <td>    0.014</td>\n",
       "</tr>\n",
       "<tr>\n",
       "  <th>AveRooms</th>   <td>   -0.1215</td> <td>    0.008</td> <td>  -15.561</td> <td> 0.000</td> <td>   -0.137</td> <td>   -0.106</td>\n",
       "</tr>\n",
       "<tr>\n",
       "  <th>AveBedrms</th>  <td>    1.1277</td> <td>    0.055</td> <td>   20.631</td> <td> 0.000</td> <td>    1.021</td> <td>    1.235</td>\n",
       "</tr>\n",
       "<tr>\n",
       "  <th>Population</th> <td>   -0.0001</td> <td> 2.05e-05</td> <td>   -5.271</td> <td> 0.000</td> <td>   -0.000</td> <td>-6.78e-05</td>\n",
       "</tr>\n",
       "<tr>\n",
       "  <th>AveOccup</th>   <td>   -0.3091</td> <td>    0.013</td> <td>  -24.569</td> <td> 0.000</td> <td>   -0.334</td> <td>   -0.284</td>\n",
       "</tr>\n",
       "<tr>\n",
       "  <th>Latitude</th>   <td>   -0.4018</td> <td>    0.008</td> <td>  -50.062</td> <td> 0.000</td> <td>   -0.418</td> <td>   -0.386</td>\n",
       "</tr>\n",
       "<tr>\n",
       "  <th>Longitude</th>  <td>   -0.3920</td> <td>    0.008</td> <td>  -47.172</td> <td> 0.000</td> <td>   -0.408</td> <td>   -0.376</td>\n",
       "</tr>\n",
       "<tr>\n",
       "  <th>Houses</th>     <td>    0.0004</td> <td> 5.87e-05</td> <td>    7.284</td> <td> 0.000</td> <td>    0.000</td> <td>    0.001</td>\n",
       "</tr>\n",
       "</table>\n",
       "<table class=\"simpletable\">\n",
       "<tr>\n",
       "  <th>Omnibus:</th>       <td>2428.160</td> <th>  Durbin-Watson:     </th> <td>   2.004</td>\n",
       "</tr>\n",
       "<tr>\n",
       "  <th>Prob(Omnibus):</th>  <td> 0.000</td>  <th>  Jarque-Bera (JB):  </th> <td>5481.354</td>\n",
       "</tr>\n",
       "<tr>\n",
       "  <th>Skew:</th>           <td> 0.891</td>  <th>  Prob(JB):          </th> <td>    0.00</td>\n",
       "</tr>\n",
       "<tr>\n",
       "  <th>Kurtosis:</th>       <td> 5.249</td>  <th>  Cond. No.          </th> <td>2.65e+05</td>\n",
       "</tr>\n",
       "</table><br/><br/>Notes:<br/>[1] Standard Errors assume that the covariance matrix of the errors is correctly specified.<br/>[2] The condition number is large, 2.65e+05. This might indicate that there are<br/>strong multicollinearity or other numerical problems."
      ],
      "text/latex": [
       "\\begin{center}\n",
       "\\begin{tabular}{lclc}\n",
       "\\toprule\n",
       "\\textbf{Dep. Variable:}    & Price\\_in\\_100k  & \\textbf{  R-squared:         } &     0.656   \\\\\n",
       "\\textbf{Model:}            &       OLS        & \\textbf{  Adj. R-squared:    } &     0.656   \\\\\n",
       "\\textbf{Method:}           &  Least Squares   & \\textbf{  F-statistic:       } &     3388.   \\\\\n",
       "\\textbf{Date:}             & Thu, 15 May 2025 & \\textbf{  Prob (F-statistic):} &     0.00    \\\\\n",
       "\\textbf{Time:}             &     11:28:10     & \\textbf{  Log-Likelihood:    } &   -16233.   \\\\\n",
       "\\textbf{No. Observations:} &       15977      & \\textbf{  AIC:               } & 3.249e+04   \\\\\n",
       "\\textbf{Df Residuals:}     &       15967      & \\textbf{  BIC:               } & 3.256e+04   \\\\\n",
       "\\textbf{Df Model:}         &           9      & \\textbf{                     } &             \\\\\n",
       "\\textbf{Covariance Type:}  &    nonrobust     & \\textbf{                     } &             \\\\\n",
       "\\bottomrule\n",
       "\\end{tabular}\n",
       "\\begin{tabular}{lcccccc}\n",
       "                    & \\textbf{coef} & \\textbf{std err} & \\textbf{t} & \\textbf{P$> |$t$|$} & \\textbf{[0.025} & \\textbf{0.975]}  \\\\\n",
       "\\midrule\n",
       "\\textbf{Intercept}  &     -32.6088  &        0.730     &   -44.684  &         0.000        &      -34.039    &      -31.178     \\\\\n",
       "\\textbf{MedInc}     &       0.5264  &        0.006     &    85.585  &         0.000        &        0.514    &        0.538     \\\\\n",
       "\\textbf{HouseAge}   &       0.0135  &        0.000     &    28.257  &         0.000        &        0.013    &        0.014     \\\\\n",
       "\\textbf{AveRooms}   &      -0.1215  &        0.008     &   -15.561  &         0.000        &       -0.137    &       -0.106     \\\\\n",
       "\\textbf{AveBedrms}  &       1.1277  &        0.055     &    20.631  &         0.000        &        1.021    &        1.235     \\\\\n",
       "\\textbf{Population} &      -0.0001  &     2.05e-05     &    -5.271  &         0.000        &       -0.000    &    -6.78e-05     \\\\\n",
       "\\textbf{AveOccup}   &      -0.3091  &        0.013     &   -24.569  &         0.000        &       -0.334    &       -0.284     \\\\\n",
       "\\textbf{Latitude}   &      -0.4018  &        0.008     &   -50.062  &         0.000        &       -0.418    &       -0.386     \\\\\n",
       "\\textbf{Longitude}  &      -0.3920  &        0.008     &   -47.172  &         0.000        &       -0.408    &       -0.376     \\\\\n",
       "\\textbf{Houses}     &       0.0004  &     5.87e-05     &     7.284  &         0.000        &        0.000    &        0.001     \\\\\n",
       "\\bottomrule\n",
       "\\end{tabular}\n",
       "\\begin{tabular}{lclc}\n",
       "\\textbf{Omnibus:}       & 2428.160 & \\textbf{  Durbin-Watson:     } &    2.004  \\\\\n",
       "\\textbf{Prob(Omnibus):} &   0.000  & \\textbf{  Jarque-Bera (JB):  } & 5481.354  \\\\\n",
       "\\textbf{Skew:}          &   0.891  & \\textbf{  Prob(JB):          } &     0.00  \\\\\n",
       "\\textbf{Kurtosis:}      &   5.249  & \\textbf{  Cond. No.          } & 2.65e+05  \\\\\n",
       "\\bottomrule\n",
       "\\end{tabular}\n",
       "%\\caption{OLS Regression Results}\n",
       "\\end{center}\n",
       "\n",
       "Notes: \\newline\n",
       " [1] Standard Errors assume that the covariance matrix of the errors is correctly specified. \\newline\n",
       " [2] The condition number is large, 2.65e+05. This might indicate that there are \\newline\n",
       " strong multicollinearity or other numerical problems."
      ],
      "text/plain": [
       "<class 'statsmodels.iolib.summary.Summary'>\n",
       "\"\"\"\n",
       "                            OLS Regression Results                            \n",
       "==============================================================================\n",
       "Dep. Variable:          Price_in_100k   R-squared:                       0.656\n",
       "Model:                            OLS   Adj. R-squared:                  0.656\n",
       "Method:                 Least Squares   F-statistic:                     3388.\n",
       "Date:                Thu, 15 May 2025   Prob (F-statistic):               0.00\n",
       "Time:                        11:28:10   Log-Likelihood:                -16233.\n",
       "No. Observations:               15977   AIC:                         3.249e+04\n",
       "Df Residuals:                   15967   BIC:                         3.256e+04\n",
       "Df Model:                           9                                         \n",
       "Covariance Type:            nonrobust                                         \n",
       "==============================================================================\n",
       "                 coef    std err          t      P>|t|      [0.025      0.975]\n",
       "------------------------------------------------------------------------------\n",
       "Intercept    -32.6088      0.730    -44.684      0.000     -34.039     -31.178\n",
       "MedInc         0.5264      0.006     85.585      0.000       0.514       0.538\n",
       "HouseAge       0.0135      0.000     28.257      0.000       0.013       0.014\n",
       "AveRooms      -0.1215      0.008    -15.561      0.000      -0.137      -0.106\n",
       "AveBedrms      1.1277      0.055     20.631      0.000       1.021       1.235\n",
       "Population    -0.0001   2.05e-05     -5.271      0.000      -0.000   -6.78e-05\n",
       "AveOccup      -0.3091      0.013    -24.569      0.000      -0.334      -0.284\n",
       "Latitude      -0.4018      0.008    -50.062      0.000      -0.418      -0.386\n",
       "Longitude     -0.3920      0.008    -47.172      0.000      -0.408      -0.376\n",
       "Houses         0.0004   5.87e-05      7.284      0.000       0.000       0.001\n",
       "==============================================================================\n",
       "Omnibus:                     2428.160   Durbin-Watson:                   2.004\n",
       "Prob(Omnibus):                  0.000   Jarque-Bera (JB):             5481.354\n",
       "Skew:                           0.891   Prob(JB):                         0.00\n",
       "Kurtosis:                       5.249   Cond. No.                     2.65e+05\n",
       "==============================================================================\n",
       "\n",
       "Notes:\n",
       "[1] Standard Errors assume that the covariance matrix of the errors is correctly specified.\n",
       "[2] The condition number is large, 2.65e+05. This might indicate that there are\n",
       "strong multicollinearity or other numerical problems.\n",
       "\"\"\""
      ]
     },
     "execution_count": 75,
     "metadata": {},
     "output_type": "execute_result"
    }
   ],
   "source": [
    "model_1 = SM.ols(f_1,train_df).fit()\n",
    "model_1.summary()"
   ]
  },
  {
   "cell_type": "code",
   "execution_count": 144,
   "id": "57f18276-27e4-4f56-bc0b-a3ce6e3295bc",
   "metadata": {},
   "outputs": [
    {
     "data": {
      "text/plain": [
       "0.6561350529016268"
      ]
     },
     "execution_count": 144,
     "metadata": {},
     "output_type": "execute_result"
    }
   ],
   "source": [
    "model_1.rsquared_adj"
   ]
  },
  {
   "cell_type": "code",
   "execution_count": 146,
   "id": "bd2dfc62-8332-419d-b5ac-59441f8139d0",
   "metadata": {},
   "outputs": [],
   "source": [
    "model_name = []\n",
    "model_perf = []\n",
    "\n",
    "model_name.append('All Variables')\n",
    "model_perf.append(model_1.rsquared_adj)"
   ]
  },
  {
   "cell_type": "code",
   "execution_count": null,
   "id": "ff5fb9d1-035c-4dee-af4a-ca2c75cb56ce",
   "metadata": {},
   "outputs": [],
   "source": []
  },
  {
   "cell_type": "markdown",
   "id": "b3bdecad-6ca1-4915-a06f-3f1570cda677",
   "metadata": {},
   "source": [
    "#### Drop - House age, Longitude, Houses"
   ]
  },
  {
   "cell_type": "code",
   "execution_count": 77,
   "id": "cb1f9f56-a5e6-4467-8155-1aa4efc53cf8",
   "metadata": {},
   "outputs": [],
   "source": [
    "f_2 = 'Price_in_100k~MedInc+AveRooms+AveBedrms+Population+AveOccup+Latitude'"
   ]
  },
  {
   "cell_type": "code",
   "execution_count": 78,
   "id": "cbb18ff0-22cb-45af-8c76-ad007393ee9a",
   "metadata": {},
   "outputs": [
    {
     "data": {
      "text/html": [
       "<table class=\"simpletable\">\n",
       "<caption>OLS Regression Results</caption>\n",
       "<tr>\n",
       "  <th>Dep. Variable:</th>      <td>Price_in_100k</td>  <th>  R-squared:         </th> <td>   0.569</td> \n",
       "</tr>\n",
       "<tr>\n",
       "  <th>Model:</th>                   <td>OLS</td>       <th>  Adj. R-squared:    </th> <td>   0.569</td> \n",
       "</tr>\n",
       "<tr>\n",
       "  <th>Method:</th>             <td>Least Squares</td>  <th>  F-statistic:       </th> <td>   3515.</td> \n",
       "</tr>\n",
       "<tr>\n",
       "  <th>Date:</th>             <td>Thu, 15 May 2025</td> <th>  Prob (F-statistic):</th>  <td>  0.00</td>  \n",
       "</tr>\n",
       "<tr>\n",
       "  <th>Time:</th>                 <td>11:28:10</td>     <th>  Log-Likelihood:    </th> <td> -18041.</td> \n",
       "</tr>\n",
       "<tr>\n",
       "  <th>No. Observations:</th>      <td> 15977</td>      <th>  AIC:               </th> <td>3.610e+04</td>\n",
       "</tr>\n",
       "<tr>\n",
       "  <th>Df Residuals:</th>          <td> 15970</td>      <th>  BIC:               </th> <td>3.615e+04</td>\n",
       "</tr>\n",
       "<tr>\n",
       "  <th>Df Model:</th>              <td>     6</td>      <th>                     </th>     <td> </td>    \n",
       "</tr>\n",
       "<tr>\n",
       "  <th>Covariance Type:</th>      <td>nonrobust</td>    <th>                     </th>     <td> </td>    \n",
       "</tr>\n",
       "</table>\n",
       "<table class=\"simpletable\">\n",
       "<tr>\n",
       "       <td></td>         <th>coef</th>     <th>std err</th>      <th>t</th>      <th>P>|t|</th>  <th>[0.025</th>    <th>0.975]</th>  \n",
       "</tr>\n",
       "<tr>\n",
       "  <th>Intercept</th>  <td>    2.5378</td> <td>    0.133</td> <td>   19.099</td> <td> 0.000</td> <td>    2.277</td> <td>    2.798</td>\n",
       "</tr>\n",
       "<tr>\n",
       "  <th>MedInc</th>     <td>    0.6499</td> <td>    0.006</td> <td>  104.597</td> <td> 0.000</td> <td>    0.638</td> <td>    0.662</td>\n",
       "</tr>\n",
       "<tr>\n",
       "  <th>AveRooms</th>   <td>   -0.2944</td> <td>    0.008</td> <td>  -36.413</td> <td> 0.000</td> <td>   -0.310</td> <td>   -0.279</td>\n",
       "</tr>\n",
       "<tr>\n",
       "  <th>AveBedrms</th>  <td>    1.1757</td> <td>    0.061</td> <td>   19.370</td> <td> 0.000</td> <td>    1.057</td> <td>    1.295</td>\n",
       "</tr>\n",
       "<tr>\n",
       "  <th>Population</th> <td>-2.053e-05</td> <td> 5.45e-06</td> <td>   -3.763</td> <td> 0.000</td> <td>-3.12e-05</td> <td>-9.83e-06</td>\n",
       "</tr>\n",
       "<tr>\n",
       "  <th>AveOccup</th>   <td>   -0.3722</td> <td>    0.009</td> <td>  -41.259</td> <td> 0.000</td> <td>   -0.390</td> <td>   -0.355</td>\n",
       "</tr>\n",
       "<tr>\n",
       "  <th>Latitude</th>   <td>   -0.0429</td> <td>    0.003</td> <td>  -14.488</td> <td> 0.000</td> <td>   -0.049</td> <td>   -0.037</td>\n",
       "</tr>\n",
       "</table>\n",
       "<table class=\"simpletable\">\n",
       "<tr>\n",
       "  <th>Omnibus:</th>       <td>2085.337</td> <th>  Durbin-Watson:     </th> <td>   1.996</td>\n",
       "</tr>\n",
       "<tr>\n",
       "  <th>Prob(Omnibus):</th>  <td> 0.000</td>  <th>  Jarque-Bera (JB):  </th> <td>4207.847</td>\n",
       "</tr>\n",
       "<tr>\n",
       "  <th>Skew:</th>           <td> 0.817</td>  <th>  Prob(JB):          </th> <td>    0.00</td>\n",
       "</tr>\n",
       "<tr>\n",
       "  <th>Kurtosis:</th>       <td> 4.911</td>  <th>  Cond. No.          </th> <td>4.21e+04</td>\n",
       "</tr>\n",
       "</table><br/><br/>Notes:<br/>[1] Standard Errors assume that the covariance matrix of the errors is correctly specified.<br/>[2] The condition number is large, 4.21e+04. This might indicate that there are<br/>strong multicollinearity or other numerical problems."
      ],
      "text/latex": [
       "\\begin{center}\n",
       "\\begin{tabular}{lclc}\n",
       "\\toprule\n",
       "\\textbf{Dep. Variable:}    & Price\\_in\\_100k  & \\textbf{  R-squared:         } &     0.569   \\\\\n",
       "\\textbf{Model:}            &       OLS        & \\textbf{  Adj. R-squared:    } &     0.569   \\\\\n",
       "\\textbf{Method:}           &  Least Squares   & \\textbf{  F-statistic:       } &     3515.   \\\\\n",
       "\\textbf{Date:}             & Thu, 15 May 2025 & \\textbf{  Prob (F-statistic):} &     0.00    \\\\\n",
       "\\textbf{Time:}             &     11:28:10     & \\textbf{  Log-Likelihood:    } &   -18041.   \\\\\n",
       "\\textbf{No. Observations:} &       15977      & \\textbf{  AIC:               } & 3.610e+04   \\\\\n",
       "\\textbf{Df Residuals:}     &       15970      & \\textbf{  BIC:               } & 3.615e+04   \\\\\n",
       "\\textbf{Df Model:}         &           6      & \\textbf{                     } &             \\\\\n",
       "\\textbf{Covariance Type:}  &    nonrobust     & \\textbf{                     } &             \\\\\n",
       "\\bottomrule\n",
       "\\end{tabular}\n",
       "\\begin{tabular}{lcccccc}\n",
       "                    & \\textbf{coef} & \\textbf{std err} & \\textbf{t} & \\textbf{P$> |$t$|$} & \\textbf{[0.025} & \\textbf{0.975]}  \\\\\n",
       "\\midrule\n",
       "\\textbf{Intercept}  &       2.5378  &        0.133     &    19.099  &         0.000        &        2.277    &        2.798     \\\\\n",
       "\\textbf{MedInc}     &       0.6499  &        0.006     &   104.597  &         0.000        &        0.638    &        0.662     \\\\\n",
       "\\textbf{AveRooms}   &      -0.2944  &        0.008     &   -36.413  &         0.000        &       -0.310    &       -0.279     \\\\\n",
       "\\textbf{AveBedrms}  &       1.1757  &        0.061     &    19.370  &         0.000        &        1.057    &        1.295     \\\\\n",
       "\\textbf{Population} &   -2.053e-05  &     5.45e-06     &    -3.763  &         0.000        &    -3.12e-05    &    -9.83e-06     \\\\\n",
       "\\textbf{AveOccup}   &      -0.3722  &        0.009     &   -41.259  &         0.000        &       -0.390    &       -0.355     \\\\\n",
       "\\textbf{Latitude}   &      -0.0429  &        0.003     &   -14.488  &         0.000        &       -0.049    &       -0.037     \\\\\n",
       "\\bottomrule\n",
       "\\end{tabular}\n",
       "\\begin{tabular}{lclc}\n",
       "\\textbf{Omnibus:}       & 2085.337 & \\textbf{  Durbin-Watson:     } &    1.996  \\\\\n",
       "\\textbf{Prob(Omnibus):} &   0.000  & \\textbf{  Jarque-Bera (JB):  } & 4207.847  \\\\\n",
       "\\textbf{Skew:}          &   0.817  & \\textbf{  Prob(JB):          } &     0.00  \\\\\n",
       "\\textbf{Kurtosis:}      &   4.911  & \\textbf{  Cond. No.          } & 4.21e+04  \\\\\n",
       "\\bottomrule\n",
       "\\end{tabular}\n",
       "%\\caption{OLS Regression Results}\n",
       "\\end{center}\n",
       "\n",
       "Notes: \\newline\n",
       " [1] Standard Errors assume that the covariance matrix of the errors is correctly specified. \\newline\n",
       " [2] The condition number is large, 4.21e+04. This might indicate that there are \\newline\n",
       " strong multicollinearity or other numerical problems."
      ],
      "text/plain": [
       "<class 'statsmodels.iolib.summary.Summary'>\n",
       "\"\"\"\n",
       "                            OLS Regression Results                            \n",
       "==============================================================================\n",
       "Dep. Variable:          Price_in_100k   R-squared:                       0.569\n",
       "Model:                            OLS   Adj. R-squared:                  0.569\n",
       "Method:                 Least Squares   F-statistic:                     3515.\n",
       "Date:                Thu, 15 May 2025   Prob (F-statistic):               0.00\n",
       "Time:                        11:28:10   Log-Likelihood:                -18041.\n",
       "No. Observations:               15977   AIC:                         3.610e+04\n",
       "Df Residuals:                   15970   BIC:                         3.615e+04\n",
       "Df Model:                           6                                         \n",
       "Covariance Type:            nonrobust                                         \n",
       "==============================================================================\n",
       "                 coef    std err          t      P>|t|      [0.025      0.975]\n",
       "------------------------------------------------------------------------------\n",
       "Intercept      2.5378      0.133     19.099      0.000       2.277       2.798\n",
       "MedInc         0.6499      0.006    104.597      0.000       0.638       0.662\n",
       "AveRooms      -0.2944      0.008    -36.413      0.000      -0.310      -0.279\n",
       "AveBedrms      1.1757      0.061     19.370      0.000       1.057       1.295\n",
       "Population -2.053e-05   5.45e-06     -3.763      0.000   -3.12e-05   -9.83e-06\n",
       "AveOccup      -0.3722      0.009    -41.259      0.000      -0.390      -0.355\n",
       "Latitude      -0.0429      0.003    -14.488      0.000      -0.049      -0.037\n",
       "==============================================================================\n",
       "Omnibus:                     2085.337   Durbin-Watson:                   1.996\n",
       "Prob(Omnibus):                  0.000   Jarque-Bera (JB):             4207.847\n",
       "Skew:                           0.817   Prob(JB):                         0.00\n",
       "Kurtosis:                       4.911   Cond. No.                     4.21e+04\n",
       "==============================================================================\n",
       "\n",
       "Notes:\n",
       "[1] Standard Errors assume that the covariance matrix of the errors is correctly specified.\n",
       "[2] The condition number is large, 4.21e+04. This might indicate that there are\n",
       "strong multicollinearity or other numerical problems.\n",
       "\"\"\""
      ]
     },
     "execution_count": 78,
     "metadata": {},
     "output_type": "execute_result"
    }
   ],
   "source": [
    "model_2 = SM.ols(f_2,train_df).fit()\n",
    "model_2.summary()"
   ]
  },
  {
   "cell_type": "code",
   "execution_count": 148,
   "id": "a7e5259f-504d-411e-9995-894e77f411d4",
   "metadata": {},
   "outputs": [],
   "source": [
    "model_name.append('Drop-House age, Longitude, Houses')\n",
    "model_perf.append(model_2.rsquared_adj)"
   ]
  },
  {
   "cell_type": "markdown",
   "id": "4bdc9613-ce0c-4a2a-b3b0-ac21c9a66f0a",
   "metadata": {},
   "source": [
    "#### Drop - HouseAge, Longitude, Latitude"
   ]
  },
  {
   "cell_type": "code",
   "execution_count": 80,
   "id": "12941793-e630-4369-a988-c31055df5bff",
   "metadata": {},
   "outputs": [],
   "source": [
    "f_3 = 'Price_in_100k~MedInc+AveRooms+AveBedrms+Population+AveOccup+Houses'"
   ]
  },
  {
   "cell_type": "code",
   "execution_count": 81,
   "id": "a1bf0353-fc81-4f35-9191-a8a64b4e0e72",
   "metadata": {},
   "outputs": [
    {
     "data": {
      "text/html": [
       "<table class=\"simpletable\">\n",
       "<caption>OLS Regression Results</caption>\n",
       "<tr>\n",
       "  <th>Dep. Variable:</th>      <td>Price_in_100k</td>  <th>  R-squared:         </th> <td>   0.564</td> \n",
       "</tr>\n",
       "<tr>\n",
       "  <th>Model:</th>                   <td>OLS</td>       <th>  Adj. R-squared:    </th> <td>   0.564</td> \n",
       "</tr>\n",
       "<tr>\n",
       "  <th>Method:</th>             <td>Least Squares</td>  <th>  F-statistic:       </th> <td>   3442.</td> \n",
       "</tr>\n",
       "<tr>\n",
       "  <th>Date:</th>             <td>Thu, 15 May 2025</td> <th>  Prob (F-statistic):</th>  <td>  0.00</td>  \n",
       "</tr>\n",
       "<tr>\n",
       "  <th>Time:</th>                 <td>11:28:10</td>     <th>  Log-Likelihood:    </th> <td> -18135.</td> \n",
       "</tr>\n",
       "<tr>\n",
       "  <th>No. Observations:</th>      <td> 15977</td>      <th>  AIC:               </th> <td>3.628e+04</td>\n",
       "</tr>\n",
       "<tr>\n",
       "  <th>Df Residuals:</th>          <td> 15970</td>      <th>  BIC:               </th> <td>3.634e+04</td>\n",
       "</tr>\n",
       "<tr>\n",
       "  <th>Df Model:</th>              <td>     6</td>      <th>                     </th>     <td> </td>    \n",
       "</tr>\n",
       "<tr>\n",
       "  <th>Covariance Type:</th>      <td>nonrobust</td>    <th>                     </th>     <td> </td>    \n",
       "</tr>\n",
       "</table>\n",
       "<table class=\"simpletable\">\n",
       "<tr>\n",
       "       <td></td>         <th>coef</th>     <th>std err</th>      <th>t</th>      <th>P>|t|</th>  <th>[0.025</th>    <th>0.975]</th>  \n",
       "</tr>\n",
       "<tr>\n",
       "  <th>Intercept</th>  <td>    0.7710</td> <td>    0.079</td> <td>    9.762</td> <td> 0.000</td> <td>    0.616</td> <td>    0.926</td>\n",
       "</tr>\n",
       "<tr>\n",
       "  <th>MedInc</th>     <td>    0.6723</td> <td>    0.006</td> <td>  111.470</td> <td> 0.000</td> <td>    0.661</td> <td>    0.684</td>\n",
       "</tr>\n",
       "<tr>\n",
       "  <th>AveRooms</th>   <td>   -0.3220</td> <td>    0.008</td> <td>  -40.805</td> <td> 0.000</td> <td>   -0.337</td> <td>   -0.307</td>\n",
       "</tr>\n",
       "<tr>\n",
       "  <th>AveBedrms</th>  <td>    1.2417</td> <td>    0.061</td> <td>   20.382</td> <td> 0.000</td> <td>    1.122</td> <td>    1.361</td>\n",
       "</tr>\n",
       "<tr>\n",
       "  <th>Population</th> <td>   -0.0001</td> <td> 2.31e-05</td> <td>   -5.068</td> <td> 0.000</td> <td>   -0.000</td> <td>-7.16e-05</td>\n",
       "</tr>\n",
       "<tr>\n",
       "  <th>AveOccup</th>   <td>   -0.2970</td> <td>    0.014</td> <td>  -21.208</td> <td> 0.000</td> <td>   -0.324</td> <td>   -0.270</td>\n",
       "</tr>\n",
       "<tr>\n",
       "  <th>Houses</th>     <td>    0.0003</td> <td> 6.59e-05</td> <td>    4.483</td> <td> 0.000</td> <td>    0.000</td> <td>    0.000</td>\n",
       "</tr>\n",
       "</table>\n",
       "<table class=\"simpletable\">\n",
       "<tr>\n",
       "  <th>Omnibus:</th>       <td>2077.390</td> <th>  Durbin-Watson:     </th> <td>   1.997</td>\n",
       "</tr>\n",
       "<tr>\n",
       "  <th>Prob(Omnibus):</th>  <td> 0.000</td>  <th>  Jarque-Bera (JB):  </th> <td>4170.667</td>\n",
       "</tr>\n",
       "<tr>\n",
       "  <th>Skew:</th>           <td> 0.816</td>  <th>  Prob(JB):          </th> <td>    0.00</td>\n",
       "</tr>\n",
       "<tr>\n",
       "  <th>Kurtosis:</th>       <td> 4.898</td>  <th>  Cond. No.          </th> <td>3.02e+04</td>\n",
       "</tr>\n",
       "</table><br/><br/>Notes:<br/>[1] Standard Errors assume that the covariance matrix of the errors is correctly specified.<br/>[2] The condition number is large, 3.02e+04. This might indicate that there are<br/>strong multicollinearity or other numerical problems."
      ],
      "text/latex": [
       "\\begin{center}\n",
       "\\begin{tabular}{lclc}\n",
       "\\toprule\n",
       "\\textbf{Dep. Variable:}    & Price\\_in\\_100k  & \\textbf{  R-squared:         } &     0.564   \\\\\n",
       "\\textbf{Model:}            &       OLS        & \\textbf{  Adj. R-squared:    } &     0.564   \\\\\n",
       "\\textbf{Method:}           &  Least Squares   & \\textbf{  F-statistic:       } &     3442.   \\\\\n",
       "\\textbf{Date:}             & Thu, 15 May 2025 & \\textbf{  Prob (F-statistic):} &     0.00    \\\\\n",
       "\\textbf{Time:}             &     11:28:10     & \\textbf{  Log-Likelihood:    } &   -18135.   \\\\\n",
       "\\textbf{No. Observations:} &       15977      & \\textbf{  AIC:               } & 3.628e+04   \\\\\n",
       "\\textbf{Df Residuals:}     &       15970      & \\textbf{  BIC:               } & 3.634e+04   \\\\\n",
       "\\textbf{Df Model:}         &           6      & \\textbf{                     } &             \\\\\n",
       "\\textbf{Covariance Type:}  &    nonrobust     & \\textbf{                     } &             \\\\\n",
       "\\bottomrule\n",
       "\\end{tabular}\n",
       "\\begin{tabular}{lcccccc}\n",
       "                    & \\textbf{coef} & \\textbf{std err} & \\textbf{t} & \\textbf{P$> |$t$|$} & \\textbf{[0.025} & \\textbf{0.975]}  \\\\\n",
       "\\midrule\n",
       "\\textbf{Intercept}  &       0.7710  &        0.079     &     9.762  &         0.000        &        0.616    &        0.926     \\\\\n",
       "\\textbf{MedInc}     &       0.6723  &        0.006     &   111.470  &         0.000        &        0.661    &        0.684     \\\\\n",
       "\\textbf{AveRooms}   &      -0.3220  &        0.008     &   -40.805  &         0.000        &       -0.337    &       -0.307     \\\\\n",
       "\\textbf{AveBedrms}  &       1.2417  &        0.061     &    20.382  &         0.000        &        1.122    &        1.361     \\\\\n",
       "\\textbf{Population} &      -0.0001  &     2.31e-05     &    -5.068  &         0.000        &       -0.000    &    -7.16e-05     \\\\\n",
       "\\textbf{AveOccup}   &      -0.2970  &        0.014     &   -21.208  &         0.000        &       -0.324    &       -0.270     \\\\\n",
       "\\textbf{Houses}     &       0.0003  &     6.59e-05     &     4.483  &         0.000        &        0.000    &        0.000     \\\\\n",
       "\\bottomrule\n",
       "\\end{tabular}\n",
       "\\begin{tabular}{lclc}\n",
       "\\textbf{Omnibus:}       & 2077.390 & \\textbf{  Durbin-Watson:     } &    1.997  \\\\\n",
       "\\textbf{Prob(Omnibus):} &   0.000  & \\textbf{  Jarque-Bera (JB):  } & 4170.667  \\\\\n",
       "\\textbf{Skew:}          &   0.816  & \\textbf{  Prob(JB):          } &     0.00  \\\\\n",
       "\\textbf{Kurtosis:}      &   4.898  & \\textbf{  Cond. No.          } & 3.02e+04  \\\\\n",
       "\\bottomrule\n",
       "\\end{tabular}\n",
       "%\\caption{OLS Regression Results}\n",
       "\\end{center}\n",
       "\n",
       "Notes: \\newline\n",
       " [1] Standard Errors assume that the covariance matrix of the errors is correctly specified. \\newline\n",
       " [2] The condition number is large, 3.02e+04. This might indicate that there are \\newline\n",
       " strong multicollinearity or other numerical problems."
      ],
      "text/plain": [
       "<class 'statsmodels.iolib.summary.Summary'>\n",
       "\"\"\"\n",
       "                            OLS Regression Results                            \n",
       "==============================================================================\n",
       "Dep. Variable:          Price_in_100k   R-squared:                       0.564\n",
       "Model:                            OLS   Adj. R-squared:                  0.564\n",
       "Method:                 Least Squares   F-statistic:                     3442.\n",
       "Date:                Thu, 15 May 2025   Prob (F-statistic):               0.00\n",
       "Time:                        11:28:10   Log-Likelihood:                -18135.\n",
       "No. Observations:               15977   AIC:                         3.628e+04\n",
       "Df Residuals:                   15970   BIC:                         3.634e+04\n",
       "Df Model:                           6                                         \n",
       "Covariance Type:            nonrobust                                         \n",
       "==============================================================================\n",
       "                 coef    std err          t      P>|t|      [0.025      0.975]\n",
       "------------------------------------------------------------------------------\n",
       "Intercept      0.7710      0.079      9.762      0.000       0.616       0.926\n",
       "MedInc         0.6723      0.006    111.470      0.000       0.661       0.684\n",
       "AveRooms      -0.3220      0.008    -40.805      0.000      -0.337      -0.307\n",
       "AveBedrms      1.2417      0.061     20.382      0.000       1.122       1.361\n",
       "Population    -0.0001   2.31e-05     -5.068      0.000      -0.000   -7.16e-05\n",
       "AveOccup      -0.2970      0.014    -21.208      0.000      -0.324      -0.270\n",
       "Houses         0.0003   6.59e-05      4.483      0.000       0.000       0.000\n",
       "==============================================================================\n",
       "Omnibus:                     2077.390   Durbin-Watson:                   1.997\n",
       "Prob(Omnibus):                  0.000   Jarque-Bera (JB):             4170.667\n",
       "Skew:                           0.816   Prob(JB):                         0.00\n",
       "Kurtosis:                       4.898   Cond. No.                     3.02e+04\n",
       "==============================================================================\n",
       "\n",
       "Notes:\n",
       "[1] Standard Errors assume that the covariance matrix of the errors is correctly specified.\n",
       "[2] The condition number is large, 3.02e+04. This might indicate that there are\n",
       "strong multicollinearity or other numerical problems.\n",
       "\"\"\""
      ]
     },
     "execution_count": 81,
     "metadata": {},
     "output_type": "execute_result"
    }
   ],
   "source": [
    "model_3 = SM.ols(f_3,train_df).fit()\n",
    "model_3.summary()"
   ]
  },
  {
   "cell_type": "code",
   "execution_count": null,
   "id": "c9708ae1-b1c9-450b-ad82-18b2d9bda0a3",
   "metadata": {},
   "outputs": [],
   "source": [
    "model_name.append('Drop-HouseAge, Longitude, Latitude')\n",
    "model_perf.append(model_3.rsquared_adj)"
   ]
  },
  {
   "cell_type": "code",
   "execution_count": 153,
   "id": "2e10e55f-9657-405c-b293-c5b2facc3c20",
   "metadata": {},
   "outputs": [
    {
     "data": {
      "text/html": [
       "<div>\n",
       "<style scoped>\n",
       "    .dataframe tbody tr th:only-of-type {\n",
       "        vertical-align: middle;\n",
       "    }\n",
       "\n",
       "    .dataframe tbody tr th {\n",
       "        vertical-align: top;\n",
       "    }\n",
       "\n",
       "    .dataframe thead th {\n",
       "        text-align: right;\n",
       "    }\n",
       "</style>\n",
       "<table border=\"1\" class=\"dataframe\">\n",
       "  <thead>\n",
       "    <tr style=\"text-align: right;\">\n",
       "      <th></th>\n",
       "      <th>model_name</th>\n",
       "      <th>model_perf</th>\n",
       "    </tr>\n",
       "  </thead>\n",
       "  <tbody>\n",
       "    <tr>\n",
       "      <th>0</th>\n",
       "      <td>All Variables</td>\n",
       "      <td>0.656135</td>\n",
       "    </tr>\n",
       "    <tr>\n",
       "      <th>1</th>\n",
       "      <td>Drop-House age, Longitude, Houses</td>\n",
       "      <td>0.568896</td>\n",
       "    </tr>\n",
       "    <tr>\n",
       "      <th>2</th>\n",
       "      <td>Drop-HouseAge, Longitude, Latitude</td>\n",
       "      <td>0.563779</td>\n",
       "    </tr>\n",
       "  </tbody>\n",
       "</table>\n",
       "</div>"
      ],
      "text/plain": [
       "                           model_name  model_perf\n",
       "0                       All Variables    0.656135\n",
       "1   Drop-House age, Longitude, Houses    0.568896\n",
       "2  Drop-HouseAge, Longitude, Latitude    0.563779"
      ]
     },
     "execution_count": 153,
     "metadata": {},
     "output_type": "execute_result"
    }
   ],
   "source": [
    "model_eval = pd.DataFrame({'model_name': model_name, 'model_perf': model_perf})\n",
    "model_eval"
   ]
  },
  {
   "cell_type": "markdown",
   "id": "47253e23-331e-4c04-af3c-75855d45c2ee",
   "metadata": {},
   "source": [
    "### Calculating VIF of variables"
   ]
  },
  {
   "cell_type": "code",
   "execution_count": 158,
   "id": "af4a29b6-7ddf-4828-9fc9-f23694dd7b29",
   "metadata": {},
   "outputs": [],
   "source": [
    "# VIF dataframe\n",
    "vif_data = pd.DataFrame()\n",
    "vif_data[\"feature\"] = train_df.columns"
   ]
  },
  {
   "cell_type": "code",
   "execution_count": 160,
   "id": "0820ce28-62ff-44e0-91b6-2c598f451514",
   "metadata": {},
   "outputs": [
    {
     "data": {
      "text/plain": [
       "Index(['MedInc', 'HouseAge', 'AveRooms', 'AveBedrms', 'Population', 'AveOccup',\n",
       "       'Latitude', 'Longitude', 'Price_in_100k', 'Houses'],\n",
       "      dtype='object')"
      ]
     },
     "execution_count": 160,
     "metadata": {},
     "output_type": "execute_result"
    }
   ],
   "source": [
    "train_df.columns"
   ]
  },
  {
   "cell_type": "code",
   "execution_count": 162,
   "id": "6eb20039-47ea-42c3-b0ac-cce1de81bfbd",
   "metadata": {},
   "outputs": [],
   "source": [
    "# calculating VIF for each feature\n",
    "vif_data[\"VIF\"] = [variance_inflation_factor(train_df.values, i)\n",
    "                          for i in range(len(train_df.columns))]"
   ]
  },
  {
   "cell_type": "code",
   "execution_count": 164,
   "id": "aaf7cb97-bc65-4d70-b708-67a83c76d744",
   "metadata": {},
   "outputs": [
    {
     "data": {
      "text/html": [
       "<div>\n",
       "<style scoped>\n",
       "    .dataframe tbody tr th:only-of-type {\n",
       "        vertical-align: middle;\n",
       "    }\n",
       "\n",
       "    .dataframe tbody tr th {\n",
       "        vertical-align: top;\n",
       "    }\n",
       "\n",
       "    .dataframe thead th {\n",
       "        text-align: right;\n",
       "    }\n",
       "</style>\n",
       "<table border=\"1\" class=\"dataframe\">\n",
       "  <thead>\n",
       "    <tr style=\"text-align: right;\">\n",
       "      <th></th>\n",
       "      <th>feature</th>\n",
       "      <th>VIF</th>\n",
       "    </tr>\n",
       "  </thead>\n",
       "  <tbody>\n",
       "    <tr>\n",
       "      <th>0</th>\n",
       "      <td>MedInc</td>\n",
       "      <td>32.353560</td>\n",
       "    </tr>\n",
       "    <tr>\n",
       "      <th>1</th>\n",
       "      <td>HouseAge</td>\n",
       "      <td>8.316431</td>\n",
       "    </tr>\n",
       "    <tr>\n",
       "      <th>2</th>\n",
       "      <td>AveRooms</td>\n",
       "      <td>60.161754</td>\n",
       "    </tr>\n",
       "    <tr>\n",
       "      <th>3</th>\n",
       "      <td>AveBedrms</td>\n",
       "      <td>124.689429</td>\n",
       "    </tr>\n",
       "    <tr>\n",
       "      <th>4</th>\n",
       "      <td>Population</td>\n",
       "      <td>49.156571</td>\n",
       "    </tr>\n",
       "    <tr>\n",
       "      <th>5</th>\n",
       "      <td>AveOccup</td>\n",
       "      <td>52.003167</td>\n",
       "    </tr>\n",
       "    <tr>\n",
       "      <th>6</th>\n",
       "      <td>Latitude</td>\n",
       "      <td>654.513461</td>\n",
       "    </tr>\n",
       "    <tr>\n",
       "      <th>7</th>\n",
       "      <td>Longitude</td>\n",
       "      <td>1061.758002</td>\n",
       "    </tr>\n",
       "    <tr>\n",
       "      <th>8</th>\n",
       "      <td>Price_in_100k</td>\n",
       "      <td>11.013680</td>\n",
       "    </tr>\n",
       "    <tr>\n",
       "      <th>9</th>\n",
       "      <td>Houses</td>\n",
       "      <td>50.020234</td>\n",
       "    </tr>\n",
       "  </tbody>\n",
       "</table>\n",
       "</div>"
      ],
      "text/plain": [
       "         feature          VIF\n",
       "0         MedInc    32.353560\n",
       "1       HouseAge     8.316431\n",
       "2       AveRooms    60.161754\n",
       "3      AveBedrms   124.689429\n",
       "4     Population    49.156571\n",
       "5       AveOccup    52.003167\n",
       "6       Latitude   654.513461\n",
       "7      Longitude  1061.758002\n",
       "8  Price_in_100k    11.013680\n",
       "9         Houses    50.020234"
      ]
     },
     "execution_count": 164,
     "metadata": {},
     "output_type": "execute_result"
    }
   ],
   "source": [
    "vif_data"
   ]
  },
  {
   "cell_type": "markdown",
   "id": "b5c21a78-2a22-4af7-87c1-ee7f2b5e8a10",
   "metadata": {},
   "source": [
    "## Model by dropping high VIF value variable(i.e, Longitude)"
   ]
  },
  {
   "cell_type": "code",
   "execution_count": 167,
   "id": "471d3a0b-bf3c-4ff6-8624-6e98f5b2f1da",
   "metadata": {},
   "outputs": [],
   "source": [
    "f_4 = 'Price_in_100k~MedInc+HouseAge+AveRooms+AveBedrms+Population+AveOccup+Latitude+Houses'"
   ]
  },
  {
   "cell_type": "code",
   "execution_count": 169,
   "id": "7cf65ec5-b6e8-4b8d-9aeb-82a91252dda0",
   "metadata": {},
   "outputs": [
    {
     "data": {
      "text/html": [
       "<table class=\"simpletable\">\n",
       "<caption>OLS Regression Results</caption>\n",
       "<tr>\n",
       "  <th>Dep. Variable:</th>      <td>Price_in_100k</td>  <th>  R-squared:         </th> <td>   0.608</td> \n",
       "</tr>\n",
       "<tr>\n",
       "  <th>Model:</th>                   <td>OLS</td>       <th>  Adj. R-squared:    </th> <td>   0.608</td> \n",
       "</tr>\n",
       "<tr>\n",
       "  <th>Method:</th>             <td>Least Squares</td>  <th>  F-statistic:       </th> <td>   3101.</td> \n",
       "</tr>\n",
       "<tr>\n",
       "  <th>Date:</th>             <td>Thu, 15 May 2025</td> <th>  Prob (F-statistic):</th>  <td>  0.00</td>  \n",
       "</tr>\n",
       "<tr>\n",
       "  <th>Time:</th>                 <td>11:56:54</td>     <th>  Log-Likelihood:    </th> <td> -17275.</td> \n",
       "</tr>\n",
       "<tr>\n",
       "  <th>No. Observations:</th>      <td> 15977</td>      <th>  AIC:               </th> <td>3.457e+04</td>\n",
       "</tr>\n",
       "<tr>\n",
       "  <th>Df Residuals:</th>          <td> 15968</td>      <th>  BIC:               </th> <td>3.464e+04</td>\n",
       "</tr>\n",
       "<tr>\n",
       "  <th>Df Model:</th>              <td>     8</td>      <th>                     </th>     <td> </td>    \n",
       "</tr>\n",
       "<tr>\n",
       "  <th>Covariance Type:</th>      <td>nonrobust</td>    <th>                     </th>     <td> </td>    \n",
       "</tr>\n",
       "</table>\n",
       "<table class=\"simpletable\">\n",
       "<tr>\n",
       "       <td></td>         <th>coef</th>     <th>std err</th>      <th>t</th>      <th>P>|t|</th>  <th>[0.025</th>    <th>0.975]</th>  \n",
       "</tr>\n",
       "<tr>\n",
       "  <th>Intercept</th>  <td>    1.3037</td> <td>    0.134</td> <td>    9.743</td> <td> 0.000</td> <td>    1.041</td> <td>    1.566</td>\n",
       "</tr>\n",
       "<tr>\n",
       "  <th>MedInc</th>     <td>    0.6504</td> <td>    0.006</td> <td>  109.611</td> <td> 0.000</td> <td>    0.639</td> <td>    0.662</td>\n",
       "</tr>\n",
       "<tr>\n",
       "  <th>HouseAge</th>   <td>    0.0196</td> <td>    0.000</td> <td>   39.835</td> <td> 0.000</td> <td>    0.019</td> <td>    0.021</td>\n",
       "</tr>\n",
       "<tr>\n",
       "  <th>AveRooms</th>   <td>   -0.2446</td> <td>    0.008</td> <td>  -31.134</td> <td> 0.000</td> <td>   -0.260</td> <td>   -0.229</td>\n",
       "</tr>\n",
       "<tr>\n",
       "  <th>AveBedrms</th>  <td>    1.3318</td> <td>    0.058</td> <td>   22.899</td> <td> 0.000</td> <td>    1.218</td> <td>    1.446</td>\n",
       "</tr>\n",
       "<tr>\n",
       "  <th>Population</th> <td>   -0.0001</td> <td> 2.19e-05</td> <td>   -4.582</td> <td> 0.000</td> <td>   -0.000</td> <td>-5.73e-05</td>\n",
       "</tr>\n",
       "<tr>\n",
       "  <th>AveOccup</th>   <td>   -0.3098</td> <td>    0.013</td> <td>  -23.073</td> <td> 0.000</td> <td>   -0.336</td> <td>   -0.284</td>\n",
       "</tr>\n",
       "<tr>\n",
       "  <th>Latitude</th>   <td>   -0.0443</td> <td>    0.003</td> <td>  -15.707</td> <td> 0.000</td> <td>   -0.050</td> <td>   -0.039</td>\n",
       "</tr>\n",
       "<tr>\n",
       "  <th>Houses</th>     <td>    0.0004</td> <td> 6.26e-05</td> <td>    7.131</td> <td> 0.000</td> <td>    0.000</td> <td>    0.001</td>\n",
       "</tr>\n",
       "</table>\n",
       "<table class=\"simpletable\">\n",
       "<tr>\n",
       "  <th>Omnibus:</th>       <td>2304.786</td> <th>  Durbin-Watson:     </th> <td>   1.992</td>\n",
       "</tr>\n",
       "<tr>\n",
       "  <th>Prob(Omnibus):</th>  <td> 0.000</td>  <th>  Jarque-Bera (JB):  </th> <td>5234.730</td>\n",
       "</tr>\n",
       "<tr>\n",
       "  <th>Skew:</th>           <td> 0.849</td>  <th>  Prob(JB):          </th> <td>    0.00</td>\n",
       "</tr>\n",
       "<tr>\n",
       "  <th>Kurtosis:</th>       <td> 5.232</td>  <th>  Cond. No.          </th> <td>4.67e+04</td>\n",
       "</tr>\n",
       "</table><br/><br/>Notes:<br/>[1] Standard Errors assume that the covariance matrix of the errors is correctly specified.<br/>[2] The condition number is large, 4.67e+04. This might indicate that there are<br/>strong multicollinearity or other numerical problems."
      ],
      "text/latex": [
       "\\begin{center}\n",
       "\\begin{tabular}{lclc}\n",
       "\\toprule\n",
       "\\textbf{Dep. Variable:}    & Price\\_in\\_100k  & \\textbf{  R-squared:         } &     0.608   \\\\\n",
       "\\textbf{Model:}            &       OLS        & \\textbf{  Adj. R-squared:    } &     0.608   \\\\\n",
       "\\textbf{Method:}           &  Least Squares   & \\textbf{  F-statistic:       } &     3101.   \\\\\n",
       "\\textbf{Date:}             & Thu, 15 May 2025 & \\textbf{  Prob (F-statistic):} &     0.00    \\\\\n",
       "\\textbf{Time:}             &     11:56:54     & \\textbf{  Log-Likelihood:    } &   -17275.   \\\\\n",
       "\\textbf{No. Observations:} &       15977      & \\textbf{  AIC:               } & 3.457e+04   \\\\\n",
       "\\textbf{Df Residuals:}     &       15968      & \\textbf{  BIC:               } & 3.464e+04   \\\\\n",
       "\\textbf{Df Model:}         &           8      & \\textbf{                     } &             \\\\\n",
       "\\textbf{Covariance Type:}  &    nonrobust     & \\textbf{                     } &             \\\\\n",
       "\\bottomrule\n",
       "\\end{tabular}\n",
       "\\begin{tabular}{lcccccc}\n",
       "                    & \\textbf{coef} & \\textbf{std err} & \\textbf{t} & \\textbf{P$> |$t$|$} & \\textbf{[0.025} & \\textbf{0.975]}  \\\\\n",
       "\\midrule\n",
       "\\textbf{Intercept}  &       1.3037  &        0.134     &     9.743  &         0.000        &        1.041    &        1.566     \\\\\n",
       "\\textbf{MedInc}     &       0.6504  &        0.006     &   109.611  &         0.000        &        0.639    &        0.662     \\\\\n",
       "\\textbf{HouseAge}   &       0.0196  &        0.000     &    39.835  &         0.000        &        0.019    &        0.021     \\\\\n",
       "\\textbf{AveRooms}   &      -0.2446  &        0.008     &   -31.134  &         0.000        &       -0.260    &       -0.229     \\\\\n",
       "\\textbf{AveBedrms}  &       1.3318  &        0.058     &    22.899  &         0.000        &        1.218    &        1.446     \\\\\n",
       "\\textbf{Population} &      -0.0001  &     2.19e-05     &    -4.582  &         0.000        &       -0.000    &    -5.73e-05     \\\\\n",
       "\\textbf{AveOccup}   &      -0.3098  &        0.013     &   -23.073  &         0.000        &       -0.336    &       -0.284     \\\\\n",
       "\\textbf{Latitude}   &      -0.0443  &        0.003     &   -15.707  &         0.000        &       -0.050    &       -0.039     \\\\\n",
       "\\textbf{Houses}     &       0.0004  &     6.26e-05     &     7.131  &         0.000        &        0.000    &        0.001     \\\\\n",
       "\\bottomrule\n",
       "\\end{tabular}\n",
       "\\begin{tabular}{lclc}\n",
       "\\textbf{Omnibus:}       & 2304.786 & \\textbf{  Durbin-Watson:     } &    1.992  \\\\\n",
       "\\textbf{Prob(Omnibus):} &   0.000  & \\textbf{  Jarque-Bera (JB):  } & 5234.730  \\\\\n",
       "\\textbf{Skew:}          &   0.849  & \\textbf{  Prob(JB):          } &     0.00  \\\\\n",
       "\\textbf{Kurtosis:}      &   5.232  & \\textbf{  Cond. No.          } & 4.67e+04  \\\\\n",
       "\\bottomrule\n",
       "\\end{tabular}\n",
       "%\\caption{OLS Regression Results}\n",
       "\\end{center}\n",
       "\n",
       "Notes: \\newline\n",
       " [1] Standard Errors assume that the covariance matrix of the errors is correctly specified. \\newline\n",
       " [2] The condition number is large, 4.67e+04. This might indicate that there are \\newline\n",
       " strong multicollinearity or other numerical problems."
      ],
      "text/plain": [
       "<class 'statsmodels.iolib.summary.Summary'>\n",
       "\"\"\"\n",
       "                            OLS Regression Results                            \n",
       "==============================================================================\n",
       "Dep. Variable:          Price_in_100k   R-squared:                       0.608\n",
       "Model:                            OLS   Adj. R-squared:                  0.608\n",
       "Method:                 Least Squares   F-statistic:                     3101.\n",
       "Date:                Thu, 15 May 2025   Prob (F-statistic):               0.00\n",
       "Time:                        11:56:54   Log-Likelihood:                -17275.\n",
       "No. Observations:               15977   AIC:                         3.457e+04\n",
       "Df Residuals:                   15968   BIC:                         3.464e+04\n",
       "Df Model:                           8                                         \n",
       "Covariance Type:            nonrobust                                         \n",
       "==============================================================================\n",
       "                 coef    std err          t      P>|t|      [0.025      0.975]\n",
       "------------------------------------------------------------------------------\n",
       "Intercept      1.3037      0.134      9.743      0.000       1.041       1.566\n",
       "MedInc         0.6504      0.006    109.611      0.000       0.639       0.662\n",
       "HouseAge       0.0196      0.000     39.835      0.000       0.019       0.021\n",
       "AveRooms      -0.2446      0.008    -31.134      0.000      -0.260      -0.229\n",
       "AveBedrms      1.3318      0.058     22.899      0.000       1.218       1.446\n",
       "Population    -0.0001   2.19e-05     -4.582      0.000      -0.000   -5.73e-05\n",
       "AveOccup      -0.3098      0.013    -23.073      0.000      -0.336      -0.284\n",
       "Latitude      -0.0443      0.003    -15.707      0.000      -0.050      -0.039\n",
       "Houses         0.0004   6.26e-05      7.131      0.000       0.000       0.001\n",
       "==============================================================================\n",
       "Omnibus:                     2304.786   Durbin-Watson:                   1.992\n",
       "Prob(Omnibus):                  0.000   Jarque-Bera (JB):             5234.730\n",
       "Skew:                           0.849   Prob(JB):                         0.00\n",
       "Kurtosis:                       5.232   Cond. No.                     4.67e+04\n",
       "==============================================================================\n",
       "\n",
       "Notes:\n",
       "[1] Standard Errors assume that the covariance matrix of the errors is correctly specified.\n",
       "[2] The condition number is large, 4.67e+04. This might indicate that there are\n",
       "strong multicollinearity or other numerical problems.\n",
       "\"\"\""
      ]
     },
     "execution_count": 169,
     "metadata": {},
     "output_type": "execute_result"
    }
   ],
   "source": [
    "model_4 = SM.ols(f_4,train_df).fit()\n",
    "model_4.summary()"
   ]
  },
  {
   "cell_type": "code",
   "execution_count": 181,
   "id": "f46f5de6-2455-4f8a-b97c-d1172a6c52af",
   "metadata": {},
   "outputs": [],
   "source": [
    "model_name.append('Drop- Longitude')\n",
    "model_perf.append(model_4.rsquared_adj)"
   ]
  },
  {
   "cell_type": "code",
   "execution_count": 183,
   "id": "dc6ea6a7-de2f-4b7a-acde-50333829e37e",
   "metadata": {},
   "outputs": [],
   "source": [
    "train_df2 = train_df[['Price_in_100k', 'MedInc', 'HouseAge', 'AveRooms', 'AveBedrms', 'Population', 'AveOccup', 'Latitude', 'Houses']]"
   ]
  },
  {
   "cell_type": "code",
   "execution_count": 197,
   "id": "dc009e81-1058-4983-9235-86ca551b2569",
   "metadata": {},
   "outputs": [],
   "source": [
    "# VIF dataframe\n",
    "vif_data = pd.DataFrame()\n",
    "vif_data[\"feature\"] = train_df2.columns"
   ]
  },
  {
   "cell_type": "code",
   "execution_count": 199,
   "id": "f926a24d-1143-4c0d-868e-6c23f89848c6",
   "metadata": {},
   "outputs": [
    {
     "data": {
      "text/html": [
       "<div>\n",
       "<style scoped>\n",
       "    .dataframe tbody tr th:only-of-type {\n",
       "        vertical-align: middle;\n",
       "    }\n",
       "\n",
       "    .dataframe tbody tr th {\n",
       "        vertical-align: top;\n",
       "    }\n",
       "\n",
       "    .dataframe thead th {\n",
       "        text-align: right;\n",
       "    }\n",
       "</style>\n",
       "<table border=\"1\" class=\"dataframe\">\n",
       "  <thead>\n",
       "    <tr style=\"text-align: right;\">\n",
       "      <th></th>\n",
       "      <th>feature</th>\n",
       "      <th>VIF</th>\n",
       "    </tr>\n",
       "  </thead>\n",
       "  <tbody>\n",
       "    <tr>\n",
       "      <th>0</th>\n",
       "      <td>Price_in_100k</td>\n",
       "      <td>10.811058</td>\n",
       "    </tr>\n",
       "    <tr>\n",
       "      <th>1</th>\n",
       "      <td>MedInc</td>\n",
       "      <td>30.275920</td>\n",
       "    </tr>\n",
       "    <tr>\n",
       "      <th>2</th>\n",
       "      <td>HouseAge</td>\n",
       "      <td>7.997283</td>\n",
       "    </tr>\n",
       "    <tr>\n",
       "      <th>3</th>\n",
       "      <td>AveRooms</td>\n",
       "      <td>57.259149</td>\n",
       "    </tr>\n",
       "    <tr>\n",
       "      <th>4</th>\n",
       "      <td>AveBedrms</td>\n",
       "      <td>95.911162</td>\n",
       "    </tr>\n",
       "    <tr>\n",
       "      <th>5</th>\n",
       "      <td>Population</td>\n",
       "      <td>46.821474</td>\n",
       "    </tr>\n",
       "    <tr>\n",
       "      <th>6</th>\n",
       "      <td>AveOccup</td>\n",
       "      <td>40.889608</td>\n",
       "    </tr>\n",
       "    <tr>\n",
       "      <th>7</th>\n",
       "      <td>Latitude</td>\n",
       "      <td>115.770948</td>\n",
       "    </tr>\n",
       "    <tr>\n",
       "      <th>8</th>\n",
       "      <td>Houses</td>\n",
       "      <td>46.836051</td>\n",
       "    </tr>\n",
       "  </tbody>\n",
       "</table>\n",
       "</div>"
      ],
      "text/plain": [
       "         feature         VIF\n",
       "0  Price_in_100k   10.811058\n",
       "1         MedInc   30.275920\n",
       "2       HouseAge    7.997283\n",
       "3       AveRooms   57.259149\n",
       "4      AveBedrms   95.911162\n",
       "5     Population   46.821474\n",
       "6       AveOccup   40.889608\n",
       "7       Latitude  115.770948\n",
       "8         Houses   46.836051"
      ]
     },
     "execution_count": 199,
     "metadata": {},
     "output_type": "execute_result"
    }
   ],
   "source": [
    "# calculating VIF for each feature\n",
    "vif_data[\"VIF\"] = [variance_inflation_factor(train_df2.values, i)\n",
    "                          for i in range(len(train_df2.columns))]\n",
    "vif_data"
   ]
  },
  {
   "cell_type": "markdown",
   "id": "d4fad8f1-7d46-445d-a579-4001bbbe6777",
   "metadata": {},
   "source": [
    "## Model by dropping high VIF value variable(i.e, Longitude, Latitude)"
   ]
  },
  {
   "cell_type": "code",
   "execution_count": 203,
   "id": "b17bfacd-0f18-40c4-9512-753c5833d123",
   "metadata": {},
   "outputs": [],
   "source": [
    "f_5 = 'Price_in_100k~MedInc+HouseAge+AveRooms+AveBedrms+Population+AveOccup+Houses'"
   ]
  },
  {
   "cell_type": "code",
   "execution_count": 205,
   "id": "41c8bbe6-13ee-47d1-82d4-08e96ebc0a53",
   "metadata": {},
   "outputs": [
    {
     "data": {
      "text/html": [
       "<table class=\"simpletable\">\n",
       "<caption>OLS Regression Results</caption>\n",
       "<tr>\n",
       "  <th>Dep. Variable:</th>      <td>Price_in_100k</td>  <th>  R-squared:         </th> <td>   0.602</td> \n",
       "</tr>\n",
       "<tr>\n",
       "  <th>Model:</th>                   <td>OLS</td>       <th>  Adj. R-squared:    </th> <td>   0.602</td> \n",
       "</tr>\n",
       "<tr>\n",
       "  <th>Method:</th>             <td>Least Squares</td>  <th>  F-statistic:       </th> <td>   3456.</td> \n",
       "</tr>\n",
       "<tr>\n",
       "  <th>Date:</th>             <td>Thu, 15 May 2025</td> <th>  Prob (F-statistic):</th>  <td>  0.00</td>  \n",
       "</tr>\n",
       "<tr>\n",
       "  <th>Time:</th>                 <td>12:16:17</td>     <th>  Log-Likelihood:    </th> <td> -17398.</td> \n",
       "</tr>\n",
       "<tr>\n",
       "  <th>No. Observations:</th>      <td> 15977</td>      <th>  AIC:               </th> <td>3.481e+04</td>\n",
       "</tr>\n",
       "<tr>\n",
       "  <th>Df Residuals:</th>          <td> 15969</td>      <th>  BIC:               </th> <td>3.487e+04</td>\n",
       "</tr>\n",
       "<tr>\n",
       "  <th>Df Model:</th>              <td>     7</td>      <th>                     </th>     <td> </td>    \n",
       "</tr>\n",
       "<tr>\n",
       "  <th>Covariance Type:</th>      <td>nonrobust</td>    <th>                     </th>     <td> </td>    \n",
       "</tr>\n",
       "</table>\n",
       "<table class=\"simpletable\">\n",
       "<tr>\n",
       "       <td></td>         <th>coef</th>     <th>std err</th>      <th>t</th>      <th>P>|t|</th>  <th>[0.025</th>    <th>0.975]</th>  \n",
       "</tr>\n",
       "<tr>\n",
       "  <th>Intercept</th>  <td>   -0.3778</td> <td>    0.081</td> <td>   -4.670</td> <td> 0.000</td> <td>   -0.536</td> <td>   -0.219</td>\n",
       "</tr>\n",
       "<tr>\n",
       "  <th>MedInc</th>     <td>    0.6754</td> <td>    0.006</td> <td>  117.258</td> <td> 0.000</td> <td>    0.664</td> <td>    0.687</td>\n",
       "</tr>\n",
       "<tr>\n",
       "  <th>HouseAge</th>   <td>    0.0194</td> <td>    0.000</td> <td>   39.292</td> <td> 0.000</td> <td>    0.018</td> <td>    0.020</td>\n",
       "</tr>\n",
       "<tr>\n",
       "  <th>AveRooms</th>   <td>   -0.2783</td> <td>    0.008</td> <td>  -36.535</td> <td> 0.000</td> <td>   -0.293</td> <td>   -0.263</td>\n",
       "</tr>\n",
       "<tr>\n",
       "  <th>AveBedrms</th>  <td>    1.4175</td> <td>    0.058</td> <td>   24.294</td> <td> 0.000</td> <td>    1.303</td> <td>    1.532</td>\n",
       "</tr>\n",
       "<tr>\n",
       "  <th>Population</th> <td>   -0.0001</td> <td>  2.2e-05</td> <td>   -4.738</td> <td> 0.000</td> <td>   -0.000</td> <td>-6.12e-05</td>\n",
       "</tr>\n",
       "<tr>\n",
       "  <th>AveOccup</th>   <td>   -0.2783</td> <td>    0.013</td> <td>  -20.802</td> <td> 0.000</td> <td>   -0.305</td> <td>   -0.252</td>\n",
       "</tr>\n",
       "<tr>\n",
       "  <th>Houses</th>     <td>    0.0005</td> <td> 6.31e-05</td> <td>    7.451</td> <td> 0.000</td> <td>    0.000</td> <td>    0.001</td>\n",
       "</tr>\n",
       "</table>\n",
       "<table class=\"simpletable\">\n",
       "<tr>\n",
       "  <th>Omnibus:</th>       <td>2339.011</td> <th>  Durbin-Watson:     </th> <td>   1.994</td>\n",
       "</tr>\n",
       "<tr>\n",
       "  <th>Prob(Omnibus):</th>  <td> 0.000</td>  <th>  Jarque-Bera (JB):  </th> <td>5444.812</td>\n",
       "</tr>\n",
       "<tr>\n",
       "  <th>Skew:</th>           <td> 0.852</td>  <th>  Prob(JB):          </th> <td>    0.00</td>\n",
       "</tr>\n",
       "<tr>\n",
       "  <th>Kurtosis:</th>       <td> 5.297</td>  <th>  Cond. No.          </th> <td>3.15e+04</td>\n",
       "</tr>\n",
       "</table><br/><br/>Notes:<br/>[1] Standard Errors assume that the covariance matrix of the errors is correctly specified.<br/>[2] The condition number is large, 3.15e+04. This might indicate that there are<br/>strong multicollinearity or other numerical problems."
      ],
      "text/latex": [
       "\\begin{center}\n",
       "\\begin{tabular}{lclc}\n",
       "\\toprule\n",
       "\\textbf{Dep. Variable:}    & Price\\_in\\_100k  & \\textbf{  R-squared:         } &     0.602   \\\\\n",
       "\\textbf{Model:}            &       OLS        & \\textbf{  Adj. R-squared:    } &     0.602   \\\\\n",
       "\\textbf{Method:}           &  Least Squares   & \\textbf{  F-statistic:       } &     3456.   \\\\\n",
       "\\textbf{Date:}             & Thu, 15 May 2025 & \\textbf{  Prob (F-statistic):} &     0.00    \\\\\n",
       "\\textbf{Time:}             &     12:16:17     & \\textbf{  Log-Likelihood:    } &   -17398.   \\\\\n",
       "\\textbf{No. Observations:} &       15977      & \\textbf{  AIC:               } & 3.481e+04   \\\\\n",
       "\\textbf{Df Residuals:}     &       15969      & \\textbf{  BIC:               } & 3.487e+04   \\\\\n",
       "\\textbf{Df Model:}         &           7      & \\textbf{                     } &             \\\\\n",
       "\\textbf{Covariance Type:}  &    nonrobust     & \\textbf{                     } &             \\\\\n",
       "\\bottomrule\n",
       "\\end{tabular}\n",
       "\\begin{tabular}{lcccccc}\n",
       "                    & \\textbf{coef} & \\textbf{std err} & \\textbf{t} & \\textbf{P$> |$t$|$} & \\textbf{[0.025} & \\textbf{0.975]}  \\\\\n",
       "\\midrule\n",
       "\\textbf{Intercept}  &      -0.3778  &        0.081     &    -4.670  &         0.000        &       -0.536    &       -0.219     \\\\\n",
       "\\textbf{MedInc}     &       0.6754  &        0.006     &   117.258  &         0.000        &        0.664    &        0.687     \\\\\n",
       "\\textbf{HouseAge}   &       0.0194  &        0.000     &    39.292  &         0.000        &        0.018    &        0.020     \\\\\n",
       "\\textbf{AveRooms}   &      -0.2783  &        0.008     &   -36.535  &         0.000        &       -0.293    &       -0.263     \\\\\n",
       "\\textbf{AveBedrms}  &       1.4175  &        0.058     &    24.294  &         0.000        &        1.303    &        1.532     \\\\\n",
       "\\textbf{Population} &      -0.0001  &      2.2e-05     &    -4.738  &         0.000        &       -0.000    &    -6.12e-05     \\\\\n",
       "\\textbf{AveOccup}   &      -0.2783  &        0.013     &   -20.802  &         0.000        &       -0.305    &       -0.252     \\\\\n",
       "\\textbf{Houses}     &       0.0005  &     6.31e-05     &     7.451  &         0.000        &        0.000    &        0.001     \\\\\n",
       "\\bottomrule\n",
       "\\end{tabular}\n",
       "\\begin{tabular}{lclc}\n",
       "\\textbf{Omnibus:}       & 2339.011 & \\textbf{  Durbin-Watson:     } &    1.994  \\\\\n",
       "\\textbf{Prob(Omnibus):} &   0.000  & \\textbf{  Jarque-Bera (JB):  } & 5444.812  \\\\\n",
       "\\textbf{Skew:}          &   0.852  & \\textbf{  Prob(JB):          } &     0.00  \\\\\n",
       "\\textbf{Kurtosis:}      &   5.297  & \\textbf{  Cond. No.          } & 3.15e+04  \\\\\n",
       "\\bottomrule\n",
       "\\end{tabular}\n",
       "%\\caption{OLS Regression Results}\n",
       "\\end{center}\n",
       "\n",
       "Notes: \\newline\n",
       " [1] Standard Errors assume that the covariance matrix of the errors is correctly specified. \\newline\n",
       " [2] The condition number is large, 3.15e+04. This might indicate that there are \\newline\n",
       " strong multicollinearity or other numerical problems."
      ],
      "text/plain": [
       "<class 'statsmodels.iolib.summary.Summary'>\n",
       "\"\"\"\n",
       "                            OLS Regression Results                            \n",
       "==============================================================================\n",
       "Dep. Variable:          Price_in_100k   R-squared:                       0.602\n",
       "Model:                            OLS   Adj. R-squared:                  0.602\n",
       "Method:                 Least Squares   F-statistic:                     3456.\n",
       "Date:                Thu, 15 May 2025   Prob (F-statistic):               0.00\n",
       "Time:                        12:16:17   Log-Likelihood:                -17398.\n",
       "No. Observations:               15977   AIC:                         3.481e+04\n",
       "Df Residuals:                   15969   BIC:                         3.487e+04\n",
       "Df Model:                           7                                         \n",
       "Covariance Type:            nonrobust                                         \n",
       "==============================================================================\n",
       "                 coef    std err          t      P>|t|      [0.025      0.975]\n",
       "------------------------------------------------------------------------------\n",
       "Intercept     -0.3778      0.081     -4.670      0.000      -0.536      -0.219\n",
       "MedInc         0.6754      0.006    117.258      0.000       0.664       0.687\n",
       "HouseAge       0.0194      0.000     39.292      0.000       0.018       0.020\n",
       "AveRooms      -0.2783      0.008    -36.535      0.000      -0.293      -0.263\n",
       "AveBedrms      1.4175      0.058     24.294      0.000       1.303       1.532\n",
       "Population    -0.0001    2.2e-05     -4.738      0.000      -0.000   -6.12e-05\n",
       "AveOccup      -0.2783      0.013    -20.802      0.000      -0.305      -0.252\n",
       "Houses         0.0005   6.31e-05      7.451      0.000       0.000       0.001\n",
       "==============================================================================\n",
       "Omnibus:                     2339.011   Durbin-Watson:                   1.994\n",
       "Prob(Omnibus):                  0.000   Jarque-Bera (JB):             5444.812\n",
       "Skew:                           0.852   Prob(JB):                         0.00\n",
       "Kurtosis:                       5.297   Cond. No.                     3.15e+04\n",
       "==============================================================================\n",
       "\n",
       "Notes:\n",
       "[1] Standard Errors assume that the covariance matrix of the errors is correctly specified.\n",
       "[2] The condition number is large, 3.15e+04. This might indicate that there are\n",
       "strong multicollinearity or other numerical problems.\n",
       "\"\"\""
      ]
     },
     "execution_count": 205,
     "metadata": {},
     "output_type": "execute_result"
    }
   ],
   "source": [
    "model_5 = SM.ols(f_5,train_df).fit()\n",
    "model_5.summary()"
   ]
  },
  {
   "cell_type": "code",
   "execution_count": 207,
   "id": "c3a638c2-4808-482c-a446-3fc1084c5800",
   "metadata": {},
   "outputs": [],
   "source": [
    "model_name.append('Drop- Longitude, Latitude')\n",
    "model_perf.append(model_5.rsquared_adj)"
   ]
  },
  {
   "cell_type": "code",
   "execution_count": 209,
   "id": "894409ee-b8f7-49c7-af0d-6c5318384f8a",
   "metadata": {},
   "outputs": [],
   "source": [
    "train_df3 = train_df[['Price_in_100k', 'MedInc', 'HouseAge', 'AveRooms', 'AveBedrms', 'Population', 'AveOccup', 'Houses']]"
   ]
  },
  {
   "cell_type": "code",
   "execution_count": 211,
   "id": "8abc864a-6ac9-4a6f-9a2c-bcd67fe3cce5",
   "metadata": {},
   "outputs": [],
   "source": [
    "# VIF dataframe\n",
    "vif_data = pd.DataFrame()\n",
    "vif_data[\"feature\"] = train_df3.columns"
   ]
  },
  {
   "cell_type": "code",
   "execution_count": 213,
   "id": "187dbfee-784e-4c6b-a501-003d497fd8b2",
   "metadata": {},
   "outputs": [
    {
     "data": {
      "text/html": [
       "<div>\n",
       "<style scoped>\n",
       "    .dataframe tbody tr th:only-of-type {\n",
       "        vertical-align: middle;\n",
       "    }\n",
       "\n",
       "    .dataframe tbody tr th {\n",
       "        vertical-align: top;\n",
       "    }\n",
       "\n",
       "    .dataframe thead th {\n",
       "        text-align: right;\n",
       "    }\n",
       "</style>\n",
       "<table border=\"1\" class=\"dataframe\">\n",
       "  <thead>\n",
       "    <tr style=\"text-align: right;\">\n",
       "      <th></th>\n",
       "      <th>feature</th>\n",
       "      <th>VIF</th>\n",
       "    </tr>\n",
       "  </thead>\n",
       "  <tbody>\n",
       "    <tr>\n",
       "      <th>0</th>\n",
       "      <td>Price_in_100k</td>\n",
       "      <td>10.695247</td>\n",
       "    </tr>\n",
       "    <tr>\n",
       "      <th>1</th>\n",
       "      <td>MedInc</td>\n",
       "      <td>29.858025</td>\n",
       "    </tr>\n",
       "    <tr>\n",
       "      <th>2</th>\n",
       "      <td>HouseAge</td>\n",
       "      <td>7.175822</td>\n",
       "    </tr>\n",
       "    <tr>\n",
       "      <th>3</th>\n",
       "      <td>AveRooms</td>\n",
       "      <td>55.916947</td>\n",
       "    </tr>\n",
       "    <tr>\n",
       "      <th>4</th>\n",
       "      <td>AveBedrms</td>\n",
       "      <td>60.701114</td>\n",
       "    </tr>\n",
       "    <tr>\n",
       "      <th>5</th>\n",
       "      <td>Population</td>\n",
       "      <td>42.752914</td>\n",
       "    </tr>\n",
       "    <tr>\n",
       "      <th>6</th>\n",
       "      <td>AveOccup</td>\n",
       "      <td>35.143266</td>\n",
       "    </tr>\n",
       "    <tr>\n",
       "      <th>7</th>\n",
       "      <td>Houses</td>\n",
       "      <td>41.800202</td>\n",
       "    </tr>\n",
       "  </tbody>\n",
       "</table>\n",
       "</div>"
      ],
      "text/plain": [
       "         feature        VIF\n",
       "0  Price_in_100k  10.695247\n",
       "1         MedInc  29.858025\n",
       "2       HouseAge   7.175822\n",
       "3       AveRooms  55.916947\n",
       "4      AveBedrms  60.701114\n",
       "5     Population  42.752914\n",
       "6       AveOccup  35.143266\n",
       "7         Houses  41.800202"
      ]
     },
     "execution_count": 213,
     "metadata": {},
     "output_type": "execute_result"
    }
   ],
   "source": [
    "# calculating VIF for each feature\n",
    "vif_data[\"VIF\"] = [variance_inflation_factor(train_df3.values, i)\n",
    "                          for i in range(len(train_df3.columns))]\n",
    "vif_data"
   ]
  },
  {
   "cell_type": "markdown",
   "id": "9ddad9f5-83ce-487b-a442-5321a5ec6aa2",
   "metadata": {},
   "source": [
    "## Model by dropping high VIF value variable(i.e, Longitude, Latitude, AveBedrms)"
   ]
  },
  {
   "cell_type": "code",
   "execution_count": 217,
   "id": "f4a8d6a7-7261-482b-92ad-ef5288aabf26",
   "metadata": {},
   "outputs": [],
   "source": [
    "f_6 = 'Price_in_100k~MedInc+HouseAge+AveRooms+Population+AveOccup+Houses'"
   ]
  },
  {
   "cell_type": "code",
   "execution_count": 219,
   "id": "28f4156a-dab7-4778-9a9c-708c6dd6aac8",
   "metadata": {},
   "outputs": [
    {
     "data": {
      "text/html": [
       "<table class=\"simpletable\">\n",
       "<caption>OLS Regression Results</caption>\n",
       "<tr>\n",
       "  <th>Dep. Variable:</th>      <td>Price_in_100k</td>  <th>  R-squared:         </th> <td>   0.588</td> \n",
       "</tr>\n",
       "<tr>\n",
       "  <th>Model:</th>                   <td>OLS</td>       <th>  Adj. R-squared:    </th> <td>   0.588</td> \n",
       "</tr>\n",
       "<tr>\n",
       "  <th>Method:</th>             <td>Least Squares</td>  <th>  F-statistic:       </th> <td>   3794.</td> \n",
       "</tr>\n",
       "<tr>\n",
       "  <th>Date:</th>             <td>Thu, 15 May 2025</td> <th>  Prob (F-statistic):</th>  <td>  0.00</td>  \n",
       "</tr>\n",
       "<tr>\n",
       "  <th>Time:</th>                 <td>12:20:23</td>     <th>  Log-Likelihood:    </th> <td> -17688.</td> \n",
       "</tr>\n",
       "<tr>\n",
       "  <th>No. Observations:</th>      <td> 15977</td>      <th>  AIC:               </th> <td>3.539e+04</td>\n",
       "</tr>\n",
       "<tr>\n",
       "  <th>Df Residuals:</th>          <td> 15970</td>      <th>  BIC:               </th> <td>3.544e+04</td>\n",
       "</tr>\n",
       "<tr>\n",
       "  <th>Df Model:</th>              <td>     6</td>      <th>                     </th>     <td> </td>    \n",
       "</tr>\n",
       "<tr>\n",
       "  <th>Covariance Type:</th>      <td>nonrobust</td>    <th>                     </th>     <td> </td>    \n",
       "</tr>\n",
       "</table>\n",
       "<table class=\"simpletable\">\n",
       "<tr>\n",
       "       <td></td>         <th>coef</th>     <th>std err</th>      <th>t</th>      <th>P>|t|</th>  <th>[0.025</th>    <th>0.975]</th>  \n",
       "</tr>\n",
       "<tr>\n",
       "  <th>Intercept</th>  <td>    1.0419</td> <td>    0.057</td> <td>   18.294</td> <td> 0.000</td> <td>    0.930</td> <td>    1.154</td>\n",
       "</tr>\n",
       "<tr>\n",
       "  <th>MedInc</th>     <td>    0.6099</td> <td>    0.005</td> <td>  117.670</td> <td> 0.000</td> <td>    0.600</td> <td>    0.620</td>\n",
       "</tr>\n",
       "<tr>\n",
       "  <th>HouseAge</th>   <td>    0.0185</td> <td>    0.001</td> <td>   36.866</td> <td> 0.000</td> <td>    0.018</td> <td>    0.020</td>\n",
       "</tr>\n",
       "<tr>\n",
       "  <th>AveRooms</th>   <td>   -0.2002</td> <td>    0.007</td> <td>  -28.469</td> <td> 0.000</td> <td>   -0.214</td> <td>   -0.186</td>\n",
       "</tr>\n",
       "<tr>\n",
       "  <th>Population</th> <td>   -0.0001</td> <td> 2.24e-05</td> <td>   -6.048</td> <td> 0.000</td> <td>   -0.000</td> <td>-9.15e-05</td>\n",
       "</tr>\n",
       "<tr>\n",
       "  <th>AveOccup</th>   <td>   -0.2977</td> <td>    0.014</td> <td>  -21.889</td> <td> 0.000</td> <td>   -0.324</td> <td>   -0.271</td>\n",
       "</tr>\n",
       "<tr>\n",
       "  <th>Houses</th>     <td>    0.0006</td> <td> 6.41e-05</td> <td>    8.900</td> <td> 0.000</td> <td>    0.000</td> <td>    0.001</td>\n",
       "</tr>\n",
       "</table>\n",
       "<table class=\"simpletable\">\n",
       "<tr>\n",
       "  <th>Omnibus:</th>       <td>2357.985</td> <th>  Durbin-Watson:     </th> <td>   1.984</td>\n",
       "</tr>\n",
       "<tr>\n",
       "  <th>Prob(Omnibus):</th>  <td> 0.000</td>  <th>  Jarque-Bera (JB):  </th> <td>5008.555</td>\n",
       "</tr>\n",
       "<tr>\n",
       "  <th>Skew:</th>           <td> 0.889</td>  <th>  Prob(JB):          </th> <td>    0.00</td>\n",
       "</tr>\n",
       "<tr>\n",
       "  <th>Kurtosis:</th>       <td> 5.089</td>  <th>  Cond. No.          </th> <td>1.92e+04</td>\n",
       "</tr>\n",
       "</table><br/><br/>Notes:<br/>[1] Standard Errors assume that the covariance matrix of the errors is correctly specified.<br/>[2] The condition number is large, 1.92e+04. This might indicate that there are<br/>strong multicollinearity or other numerical problems."
      ],
      "text/latex": [
       "\\begin{center}\n",
       "\\begin{tabular}{lclc}\n",
       "\\toprule\n",
       "\\textbf{Dep. Variable:}    & Price\\_in\\_100k  & \\textbf{  R-squared:         } &     0.588   \\\\\n",
       "\\textbf{Model:}            &       OLS        & \\textbf{  Adj. R-squared:    } &     0.588   \\\\\n",
       "\\textbf{Method:}           &  Least Squares   & \\textbf{  F-statistic:       } &     3794.   \\\\\n",
       "\\textbf{Date:}             & Thu, 15 May 2025 & \\textbf{  Prob (F-statistic):} &     0.00    \\\\\n",
       "\\textbf{Time:}             &     12:20:23     & \\textbf{  Log-Likelihood:    } &   -17688.   \\\\\n",
       "\\textbf{No. Observations:} &       15977      & \\textbf{  AIC:               } & 3.539e+04   \\\\\n",
       "\\textbf{Df Residuals:}     &       15970      & \\textbf{  BIC:               } & 3.544e+04   \\\\\n",
       "\\textbf{Df Model:}         &           6      & \\textbf{                     } &             \\\\\n",
       "\\textbf{Covariance Type:}  &    nonrobust     & \\textbf{                     } &             \\\\\n",
       "\\bottomrule\n",
       "\\end{tabular}\n",
       "\\begin{tabular}{lcccccc}\n",
       "                    & \\textbf{coef} & \\textbf{std err} & \\textbf{t} & \\textbf{P$> |$t$|$} & \\textbf{[0.025} & \\textbf{0.975]}  \\\\\n",
       "\\midrule\n",
       "\\textbf{Intercept}  &       1.0419  &        0.057     &    18.294  &         0.000        &        0.930    &        1.154     \\\\\n",
       "\\textbf{MedInc}     &       0.6099  &        0.005     &   117.670  &         0.000        &        0.600    &        0.620     \\\\\n",
       "\\textbf{HouseAge}   &       0.0185  &        0.001     &    36.866  &         0.000        &        0.018    &        0.020     \\\\\n",
       "\\textbf{AveRooms}   &      -0.2002  &        0.007     &   -28.469  &         0.000        &       -0.214    &       -0.186     \\\\\n",
       "\\textbf{Population} &      -0.0001  &     2.24e-05     &    -6.048  &         0.000        &       -0.000    &    -9.15e-05     \\\\\n",
       "\\textbf{AveOccup}   &      -0.2977  &        0.014     &   -21.889  &         0.000        &       -0.324    &       -0.271     \\\\\n",
       "\\textbf{Houses}     &       0.0006  &     6.41e-05     &     8.900  &         0.000        &        0.000    &        0.001     \\\\\n",
       "\\bottomrule\n",
       "\\end{tabular}\n",
       "\\begin{tabular}{lclc}\n",
       "\\textbf{Omnibus:}       & 2357.985 & \\textbf{  Durbin-Watson:     } &    1.984  \\\\\n",
       "\\textbf{Prob(Omnibus):} &   0.000  & \\textbf{  Jarque-Bera (JB):  } & 5008.555  \\\\\n",
       "\\textbf{Skew:}          &   0.889  & \\textbf{  Prob(JB):          } &     0.00  \\\\\n",
       "\\textbf{Kurtosis:}      &   5.089  & \\textbf{  Cond. No.          } & 1.92e+04  \\\\\n",
       "\\bottomrule\n",
       "\\end{tabular}\n",
       "%\\caption{OLS Regression Results}\n",
       "\\end{center}\n",
       "\n",
       "Notes: \\newline\n",
       " [1] Standard Errors assume that the covariance matrix of the errors is correctly specified. \\newline\n",
       " [2] The condition number is large, 1.92e+04. This might indicate that there are \\newline\n",
       " strong multicollinearity or other numerical problems."
      ],
      "text/plain": [
       "<class 'statsmodels.iolib.summary.Summary'>\n",
       "\"\"\"\n",
       "                            OLS Regression Results                            \n",
       "==============================================================================\n",
       "Dep. Variable:          Price_in_100k   R-squared:                       0.588\n",
       "Model:                            OLS   Adj. R-squared:                  0.588\n",
       "Method:                 Least Squares   F-statistic:                     3794.\n",
       "Date:                Thu, 15 May 2025   Prob (F-statistic):               0.00\n",
       "Time:                        12:20:23   Log-Likelihood:                -17688.\n",
       "No. Observations:               15977   AIC:                         3.539e+04\n",
       "Df Residuals:                   15970   BIC:                         3.544e+04\n",
       "Df Model:                           6                                         \n",
       "Covariance Type:            nonrobust                                         \n",
       "==============================================================================\n",
       "                 coef    std err          t      P>|t|      [0.025      0.975]\n",
       "------------------------------------------------------------------------------\n",
       "Intercept      1.0419      0.057     18.294      0.000       0.930       1.154\n",
       "MedInc         0.6099      0.005    117.670      0.000       0.600       0.620\n",
       "HouseAge       0.0185      0.001     36.866      0.000       0.018       0.020\n",
       "AveRooms      -0.2002      0.007    -28.469      0.000      -0.214      -0.186\n",
       "Population    -0.0001   2.24e-05     -6.048      0.000      -0.000   -9.15e-05\n",
       "AveOccup      -0.2977      0.014    -21.889      0.000      -0.324      -0.271\n",
       "Houses         0.0006   6.41e-05      8.900      0.000       0.000       0.001\n",
       "==============================================================================\n",
       "Omnibus:                     2357.985   Durbin-Watson:                   1.984\n",
       "Prob(Omnibus):                  0.000   Jarque-Bera (JB):             5008.555\n",
       "Skew:                           0.889   Prob(JB):                         0.00\n",
       "Kurtosis:                       5.089   Cond. No.                     1.92e+04\n",
       "==============================================================================\n",
       "\n",
       "Notes:\n",
       "[1] Standard Errors assume that the covariance matrix of the errors is correctly specified.\n",
       "[2] The condition number is large, 1.92e+04. This might indicate that there are\n",
       "strong multicollinearity or other numerical problems.\n",
       "\"\"\""
      ]
     },
     "execution_count": 219,
     "metadata": {},
     "output_type": "execute_result"
    }
   ],
   "source": [
    "model_6 = SM.ols(f_6,train_df).fit()\n",
    "model_6.summary()"
   ]
  },
  {
   "cell_type": "code",
   "execution_count": 221,
   "id": "e626e449-e539-4288-be55-451d3885eff6",
   "metadata": {},
   "outputs": [],
   "source": [
    "model_name.append('Drop- Longitude, Latitude, AveBedrms')\n",
    "model_perf.append(model_6.rsquared_adj)"
   ]
  },
  {
   "cell_type": "code",
   "execution_count": 223,
   "id": "016e21e1-25b1-4c5a-b205-1a83cc073993",
   "metadata": {},
   "outputs": [],
   "source": [
    "train_df4 = train_df[['Price_in_100k', 'MedInc', 'HouseAge', 'AveBedrms', 'Population', 'AveOccup', 'Houses']]"
   ]
  },
  {
   "cell_type": "code",
   "execution_count": 225,
   "id": "95f000ac-8190-494a-bcce-996d5c642848",
   "metadata": {},
   "outputs": [],
   "source": [
    "# VIF dataframe\n",
    "vif_data = pd.DataFrame()\n",
    "vif_data[\"feature\"] = train_df4.columns"
   ]
  },
  {
   "cell_type": "code",
   "execution_count": 227,
   "id": "f3f4dcc9-d98d-450b-a91d-073306b8fe52",
   "metadata": {},
   "outputs": [
    {
     "data": {
      "text/html": [
       "<div>\n",
       "<style scoped>\n",
       "    .dataframe tbody tr th:only-of-type {\n",
       "        vertical-align: middle;\n",
       "    }\n",
       "\n",
       "    .dataframe tbody tr th {\n",
       "        vertical-align: top;\n",
       "    }\n",
       "\n",
       "    .dataframe thead th {\n",
       "        text-align: right;\n",
       "    }\n",
       "</style>\n",
       "<table border=\"1\" class=\"dataframe\">\n",
       "  <thead>\n",
       "    <tr style=\"text-align: right;\">\n",
       "      <th></th>\n",
       "      <th>feature</th>\n",
       "      <th>VIF</th>\n",
       "    </tr>\n",
       "  </thead>\n",
       "  <tbody>\n",
       "    <tr>\n",
       "      <th>0</th>\n",
       "      <td>Price_in_100k</td>\n",
       "      <td>9.865817</td>\n",
       "    </tr>\n",
       "    <tr>\n",
       "      <th>1</th>\n",
       "      <td>MedInc</td>\n",
       "      <td>13.805559</td>\n",
       "    </tr>\n",
       "    <tr>\n",
       "      <th>2</th>\n",
       "      <td>HouseAge</td>\n",
       "      <td>7.158073</td>\n",
       "    </tr>\n",
       "    <tr>\n",
       "      <th>3</th>\n",
       "      <td>AveBedrms</td>\n",
       "      <td>34.260943</td>\n",
       "    </tr>\n",
       "    <tr>\n",
       "      <th>4</th>\n",
       "      <td>Population</td>\n",
       "      <td>42.293078</td>\n",
       "    </tr>\n",
       "    <tr>\n",
       "      <th>5</th>\n",
       "      <td>AveOccup</td>\n",
       "      <td>34.938381</td>\n",
       "    </tr>\n",
       "    <tr>\n",
       "      <th>6</th>\n",
       "      <td>Houses</td>\n",
       "      <td>41.028742</td>\n",
       "    </tr>\n",
       "  </tbody>\n",
       "</table>\n",
       "</div>"
      ],
      "text/plain": [
       "         feature        VIF\n",
       "0  Price_in_100k   9.865817\n",
       "1         MedInc  13.805559\n",
       "2       HouseAge   7.158073\n",
       "3      AveBedrms  34.260943\n",
       "4     Population  42.293078\n",
       "5       AveOccup  34.938381\n",
       "6         Houses  41.028742"
      ]
     },
     "execution_count": 227,
     "metadata": {},
     "output_type": "execute_result"
    }
   ],
   "source": [
    "# calculating VIF for each feature\n",
    "vif_data[\"VIF\"] = [variance_inflation_factor(train_df4.values, i)\n",
    "                          for i in range(len(train_df4.columns))]\n",
    "vif_data"
   ]
  },
  {
   "cell_type": "markdown",
   "id": "2f8d595d-e824-48ea-8ed6-b38c13cbfbd1",
   "metadata": {},
   "source": [
    "## Model by dropping high VIF value variable(i.e, Longitude, Latitude, AveBedrms, Population)"
   ]
  },
  {
   "cell_type": "code",
   "execution_count": 235,
   "id": "3d47c1ca-e778-4b15-9778-5a01efae5c0c",
   "metadata": {},
   "outputs": [],
   "source": [
    "f_7 = 'Price_in_100k~MedInc+HouseAge+AveRooms+AveOccup+Houses'"
   ]
  },
  {
   "cell_type": "code",
   "execution_count": 237,
   "id": "cba1701c-8368-4688-84b9-eb83ec942a18",
   "metadata": {},
   "outputs": [
    {
     "data": {
      "text/html": [
       "<table class=\"simpletable\">\n",
       "<caption>OLS Regression Results</caption>\n",
       "<tr>\n",
       "  <th>Dep. Variable:</th>      <td>Price_in_100k</td>  <th>  R-squared:         </th> <td>   0.587</td> \n",
       "</tr>\n",
       "<tr>\n",
       "  <th>Model:</th>                   <td>OLS</td>       <th>  Adj. R-squared:    </th> <td>   0.587</td> \n",
       "</tr>\n",
       "<tr>\n",
       "  <th>Method:</th>             <td>Least Squares</td>  <th>  F-statistic:       </th> <td>   4535.</td> \n",
       "</tr>\n",
       "<tr>\n",
       "  <th>Date:</th>             <td>Thu, 15 May 2025</td> <th>  Prob (F-statistic):</th>  <td>  0.00</td>  \n",
       "</tr>\n",
       "<tr>\n",
       "  <th>Time:</th>                 <td>12:23:50</td>     <th>  Log-Likelihood:    </th> <td> -17706.</td> \n",
       "</tr>\n",
       "<tr>\n",
       "  <th>No. Observations:</th>      <td> 15977</td>      <th>  AIC:               </th> <td>3.542e+04</td>\n",
       "</tr>\n",
       "<tr>\n",
       "  <th>Df Residuals:</th>          <td> 15971</td>      <th>  BIC:               </th> <td>3.547e+04</td>\n",
       "</tr>\n",
       "<tr>\n",
       "  <th>Df Model:</th>              <td>     5</td>      <th>                     </th>     <td> </td>    \n",
       "</tr>\n",
       "<tr>\n",
       "  <th>Covariance Type:</th>      <td>nonrobust</td>    <th>                     </th>     <td> </td>    \n",
       "</tr>\n",
       "</table>\n",
       "<table class=\"simpletable\">\n",
       "<tr>\n",
       "      <td></td>         <th>coef</th>     <th>std err</th>      <th>t</th>      <th>P>|t|</th>  <th>[0.025</th>    <th>0.975]</th>  \n",
       "</tr>\n",
       "<tr>\n",
       "  <th>Intercept</th> <td>    1.2442</td> <td>    0.046</td> <td>   26.961</td> <td> 0.000</td> <td>    1.154</td> <td>    1.335</td>\n",
       "</tr>\n",
       "<tr>\n",
       "  <th>MedInc</th>    <td>    0.6106</td> <td>    0.005</td> <td>  117.697</td> <td> 0.000</td> <td>    0.600</td> <td>    0.621</td>\n",
       "</tr>\n",
       "<tr>\n",
       "  <th>HouseAge</th>  <td>    0.0186</td> <td>    0.001</td> <td>   36.887</td> <td> 0.000</td> <td>    0.018</td> <td>    0.020</td>\n",
       "</tr>\n",
       "<tr>\n",
       "  <th>AveRooms</th>  <td>   -0.2045</td> <td>    0.007</td> <td>  -29.206</td> <td> 0.000</td> <td>   -0.218</td> <td>   -0.191</td>\n",
       "</tr>\n",
       "<tr>\n",
       "  <th>AveOccup</th>  <td>   -0.3623</td> <td>    0.008</td> <td>  -42.929</td> <td> 0.000</td> <td>   -0.379</td> <td>   -0.346</td>\n",
       "</tr>\n",
       "<tr>\n",
       "  <th>Houses</th>    <td>    0.0002</td> <td> 1.62e-05</td> <td>   12.076</td> <td> 0.000</td> <td>    0.000</td> <td>    0.000</td>\n",
       "</tr>\n",
       "</table>\n",
       "<table class=\"simpletable\">\n",
       "<tr>\n",
       "  <th>Omnibus:</th>       <td>2376.295</td> <th>  Durbin-Watson:     </th> <td>   1.985</td>\n",
       "</tr>\n",
       "<tr>\n",
       "  <th>Prob(Omnibus):</th>  <td> 0.000</td>  <th>  Jarque-Bera (JB):  </th> <td>5083.672</td>\n",
       "</tr>\n",
       "<tr>\n",
       "  <th>Skew:</th>           <td> 0.893</td>  <th>  Prob(JB):          </th> <td>    0.00</td>\n",
       "</tr>\n",
       "<tr>\n",
       "  <th>Kurtosis:</th>       <td> 5.109</td>  <th>  Cond. No.          </th> <td>5.12e+03</td>\n",
       "</tr>\n",
       "</table><br/><br/>Notes:<br/>[1] Standard Errors assume that the covariance matrix of the errors is correctly specified.<br/>[2] The condition number is large, 5.12e+03. This might indicate that there are<br/>strong multicollinearity or other numerical problems."
      ],
      "text/latex": [
       "\\begin{center}\n",
       "\\begin{tabular}{lclc}\n",
       "\\toprule\n",
       "\\textbf{Dep. Variable:}    & Price\\_in\\_100k  & \\textbf{  R-squared:         } &     0.587   \\\\\n",
       "\\textbf{Model:}            &       OLS        & \\textbf{  Adj. R-squared:    } &     0.587   \\\\\n",
       "\\textbf{Method:}           &  Least Squares   & \\textbf{  F-statistic:       } &     4535.   \\\\\n",
       "\\textbf{Date:}             & Thu, 15 May 2025 & \\textbf{  Prob (F-statistic):} &     0.00    \\\\\n",
       "\\textbf{Time:}             &     12:23:50     & \\textbf{  Log-Likelihood:    } &   -17706.   \\\\\n",
       "\\textbf{No. Observations:} &       15977      & \\textbf{  AIC:               } & 3.542e+04   \\\\\n",
       "\\textbf{Df Residuals:}     &       15971      & \\textbf{  BIC:               } & 3.547e+04   \\\\\n",
       "\\textbf{Df Model:}         &           5      & \\textbf{                     } &             \\\\\n",
       "\\textbf{Covariance Type:}  &    nonrobust     & \\textbf{                     } &             \\\\\n",
       "\\bottomrule\n",
       "\\end{tabular}\n",
       "\\begin{tabular}{lcccccc}\n",
       "                   & \\textbf{coef} & \\textbf{std err} & \\textbf{t} & \\textbf{P$> |$t$|$} & \\textbf{[0.025} & \\textbf{0.975]}  \\\\\n",
       "\\midrule\n",
       "\\textbf{Intercept} &       1.2442  &        0.046     &    26.961  &         0.000        &        1.154    &        1.335     \\\\\n",
       "\\textbf{MedInc}    &       0.6106  &        0.005     &   117.697  &         0.000        &        0.600    &        0.621     \\\\\n",
       "\\textbf{HouseAge}  &       0.0186  &        0.001     &    36.887  &         0.000        &        0.018    &        0.020     \\\\\n",
       "\\textbf{AveRooms}  &      -0.2045  &        0.007     &   -29.206  &         0.000        &       -0.218    &       -0.191     \\\\\n",
       "\\textbf{AveOccup}  &      -0.3623  &        0.008     &   -42.929  &         0.000        &       -0.379    &       -0.346     \\\\\n",
       "\\textbf{Houses}    &       0.0002  &     1.62e-05     &    12.076  &         0.000        &        0.000    &        0.000     \\\\\n",
       "\\bottomrule\n",
       "\\end{tabular}\n",
       "\\begin{tabular}{lclc}\n",
       "\\textbf{Omnibus:}       & 2376.295 & \\textbf{  Durbin-Watson:     } &    1.985  \\\\\n",
       "\\textbf{Prob(Omnibus):} &   0.000  & \\textbf{  Jarque-Bera (JB):  } & 5083.672  \\\\\n",
       "\\textbf{Skew:}          &   0.893  & \\textbf{  Prob(JB):          } &     0.00  \\\\\n",
       "\\textbf{Kurtosis:}      &   5.109  & \\textbf{  Cond. No.          } & 5.12e+03  \\\\\n",
       "\\bottomrule\n",
       "\\end{tabular}\n",
       "%\\caption{OLS Regression Results}\n",
       "\\end{center}\n",
       "\n",
       "Notes: \\newline\n",
       " [1] Standard Errors assume that the covariance matrix of the errors is correctly specified. \\newline\n",
       " [2] The condition number is large, 5.12e+03. This might indicate that there are \\newline\n",
       " strong multicollinearity or other numerical problems."
      ],
      "text/plain": [
       "<class 'statsmodels.iolib.summary.Summary'>\n",
       "\"\"\"\n",
       "                            OLS Regression Results                            \n",
       "==============================================================================\n",
       "Dep. Variable:          Price_in_100k   R-squared:                       0.587\n",
       "Model:                            OLS   Adj. R-squared:                  0.587\n",
       "Method:                 Least Squares   F-statistic:                     4535.\n",
       "Date:                Thu, 15 May 2025   Prob (F-statistic):               0.00\n",
       "Time:                        12:23:50   Log-Likelihood:                -17706.\n",
       "No. Observations:               15977   AIC:                         3.542e+04\n",
       "Df Residuals:                   15971   BIC:                         3.547e+04\n",
       "Df Model:                           5                                         \n",
       "Covariance Type:            nonrobust                                         \n",
       "==============================================================================\n",
       "                 coef    std err          t      P>|t|      [0.025      0.975]\n",
       "------------------------------------------------------------------------------\n",
       "Intercept      1.2442      0.046     26.961      0.000       1.154       1.335\n",
       "MedInc         0.6106      0.005    117.697      0.000       0.600       0.621\n",
       "HouseAge       0.0186      0.001     36.887      0.000       0.018       0.020\n",
       "AveRooms      -0.2045      0.007    -29.206      0.000      -0.218      -0.191\n",
       "AveOccup      -0.3623      0.008    -42.929      0.000      -0.379      -0.346\n",
       "Houses         0.0002   1.62e-05     12.076      0.000       0.000       0.000\n",
       "==============================================================================\n",
       "Omnibus:                     2376.295   Durbin-Watson:                   1.985\n",
       "Prob(Omnibus):                  0.000   Jarque-Bera (JB):             5083.672\n",
       "Skew:                           0.893   Prob(JB):                         0.00\n",
       "Kurtosis:                       5.109   Cond. No.                     5.12e+03\n",
       "==============================================================================\n",
       "\n",
       "Notes:\n",
       "[1] Standard Errors assume that the covariance matrix of the errors is correctly specified.\n",
       "[2] The condition number is large, 5.12e+03. This might indicate that there are\n",
       "strong multicollinearity or other numerical problems.\n",
       "\"\"\""
      ]
     },
     "execution_count": 237,
     "metadata": {},
     "output_type": "execute_result"
    }
   ],
   "source": [
    "model_7 = SM.ols(f_7,train_df).fit()\n",
    "model_7.summary()"
   ]
  },
  {
   "cell_type": "code",
   "execution_count": 239,
   "id": "1aa8be0c-9cf6-4bf3-ac0e-491e4dd17796",
   "metadata": {},
   "outputs": [],
   "source": [
    "model_name.append('Drop- Longitude, Latitude, AveBedrms, Population')\n",
    "model_perf.append(model_7.rsquared_adj)"
   ]
  },
  {
   "cell_type": "code",
   "execution_count": 253,
   "id": "785d82a9-e350-4e10-94d0-1888751301e1",
   "metadata": {},
   "outputs": [],
   "source": [
    "train_df5 = train_df[['Price_in_100k', 'MedInc', 'HouseAge', 'AveOccup', 'Houses']]"
   ]
  },
  {
   "cell_type": "code",
   "execution_count": 255,
   "id": "44f5a627-8994-4469-9047-43f3243d8dff",
   "metadata": {},
   "outputs": [],
   "source": [
    "# VIF dataframe\n",
    "vif_data = pd.DataFrame()\n",
    "vif_data[\"feature\"] = train_df5.columns"
   ]
  },
  {
   "cell_type": "code",
   "execution_count": 257,
   "id": "84824169-dfa4-4b90-9697-9cdb3939325d",
   "metadata": {},
   "outputs": [
    {
     "data": {
      "text/html": [
       "<div>\n",
       "<style scoped>\n",
       "    .dataframe tbody tr th:only-of-type {\n",
       "        vertical-align: middle;\n",
       "    }\n",
       "\n",
       "    .dataframe tbody tr th {\n",
       "        vertical-align: top;\n",
       "    }\n",
       "\n",
       "    .dataframe thead th {\n",
       "        text-align: right;\n",
       "    }\n",
       "</style>\n",
       "<table border=\"1\" class=\"dataframe\">\n",
       "  <thead>\n",
       "    <tr style=\"text-align: right;\">\n",
       "      <th></th>\n",
       "      <th>feature</th>\n",
       "      <th>VIF</th>\n",
       "    </tr>\n",
       "  </thead>\n",
       "  <tbody>\n",
       "    <tr>\n",
       "      <th>0</th>\n",
       "      <td>Price_in_100k</td>\n",
       "      <td>9.694911</td>\n",
       "    </tr>\n",
       "    <tr>\n",
       "      <th>1</th>\n",
       "      <td>MedInc</td>\n",
       "      <td>13.539609</td>\n",
       "    </tr>\n",
       "    <tr>\n",
       "      <th>2</th>\n",
       "      <td>HouseAge</td>\n",
       "      <td>6.045857</td>\n",
       "    </tr>\n",
       "    <tr>\n",
       "      <th>3</th>\n",
       "      <td>AveOccup</td>\n",
       "      <td>9.784053</td>\n",
       "    </tr>\n",
       "    <tr>\n",
       "      <th>4</th>\n",
       "      <td>Houses</td>\n",
       "      <td>2.588723</td>\n",
       "    </tr>\n",
       "  </tbody>\n",
       "</table>\n",
       "</div>"
      ],
      "text/plain": [
       "         feature        VIF\n",
       "0  Price_in_100k   9.694911\n",
       "1         MedInc  13.539609\n",
       "2       HouseAge   6.045857\n",
       "3       AveOccup   9.784053\n",
       "4         Houses   2.588723"
      ]
     },
     "execution_count": 257,
     "metadata": {},
     "output_type": "execute_result"
    }
   ],
   "source": [
    "# calculating VIF for each feature\n",
    "vif_data[\"VIF\"] = [variance_inflation_factor(train_df5.values, i)\n",
    "                          for i in range(len(train_df5.columns))]\n",
    "vif_data"
   ]
  },
  {
   "cell_type": "markdown",
   "id": "f103a05f-b41e-4227-af8c-462621240096",
   "metadata": {},
   "source": [
    "## Model by dropping high VIF value variable(i.e, Longitude, Latitude, AveBedrms, Population, MedInc)"
   ]
  },
  {
   "cell_type": "code",
   "execution_count": 260,
   "id": "0901ae81-576a-4ec2-a8ef-d940ed2766d9",
   "metadata": {},
   "outputs": [],
   "source": [
    "f_8 = 'Price_in_100k~HouseAge+AveRooms+AveOccup+Houses'"
   ]
  },
  {
   "cell_type": "code",
   "execution_count": 262,
   "id": "31d17798-fcc7-4518-bf2d-f9a099bb2049",
   "metadata": {},
   "outputs": [
    {
     "data": {
      "text/html": [
       "<table class=\"simpletable\">\n",
       "<caption>OLS Regression Results</caption>\n",
       "<tr>\n",
       "  <th>Dep. Variable:</th>      <td>Price_in_100k</td>  <th>  R-squared:         </th> <td>   0.228</td> \n",
       "</tr>\n",
       "<tr>\n",
       "  <th>Model:</th>                   <td>OLS</td>       <th>  Adj. R-squared:    </th> <td>   0.228</td> \n",
       "</tr>\n",
       "<tr>\n",
       "  <th>Method:</th>             <td>Least Squares</td>  <th>  F-statistic:       </th> <td>   1181.</td> \n",
       "</tr>\n",
       "<tr>\n",
       "  <th>Date:</th>             <td>Thu, 15 May 2025</td> <th>  Prob (F-statistic):</th>  <td>  0.00</td>  \n",
       "</tr>\n",
       "<tr>\n",
       "  <th>Time:</th>                 <td>12:32:27</td>     <th>  Log-Likelihood:    </th> <td> -22695.</td> \n",
       "</tr>\n",
       "<tr>\n",
       "  <th>No. Observations:</th>      <td> 15977</td>      <th>  AIC:               </th> <td>4.540e+04</td>\n",
       "</tr>\n",
       "<tr>\n",
       "  <th>Df Residuals:</th>          <td> 15972</td>      <th>  BIC:               </th> <td>4.544e+04</td>\n",
       "</tr>\n",
       "<tr>\n",
       "  <th>Df Model:</th>              <td>     4</td>      <th>                     </th>     <td> </td>    \n",
       "</tr>\n",
       "<tr>\n",
       "  <th>Covariance Type:</th>      <td>nonrobust</td>    <th>                     </th>     <td> </td>    \n",
       "</tr>\n",
       "</table>\n",
       "<table class=\"simpletable\">\n",
       "<tr>\n",
       "      <td></td>         <th>coef</th>     <th>std err</th>      <th>t</th>      <th>P>|t|</th>  <th>[0.025</th>    <th>0.975]</th>  \n",
       "</tr>\n",
       "<tr>\n",
       "  <th>Intercept</th> <td>    0.7498</td> <td>    0.063</td> <td>   11.940</td> <td> 0.000</td> <td>    0.627</td> <td>    0.873</td>\n",
       "</tr>\n",
       "<tr>\n",
       "  <th>HouseAge</th>  <td>    0.0201</td> <td>    0.001</td> <td>   29.193</td> <td> 0.000</td> <td>    0.019</td> <td>    0.021</td>\n",
       "</tr>\n",
       "<tr>\n",
       "  <th>AveRooms</th>  <td>    0.3539</td> <td>    0.007</td> <td>   50.301</td> <td> 0.000</td> <td>    0.340</td> <td>    0.368</td>\n",
       "</tr>\n",
       "<tr>\n",
       "  <th>AveOccup</th>  <td>   -0.4525</td> <td>    0.011</td> <td>  -39.403</td> <td> 0.000</td> <td>   -0.475</td> <td>   -0.430</td>\n",
       "</tr>\n",
       "<tr>\n",
       "  <th>Houses</th>    <td>    0.0004</td> <td>  2.2e-05</td> <td>   16.531</td> <td> 0.000</td> <td>    0.000</td> <td>    0.000</td>\n",
       "</tr>\n",
       "</table>\n",
       "<table class=\"simpletable\">\n",
       "<tr>\n",
       "  <th>Omnibus:</th>       <td>661.427</td> <th>  Durbin-Watson:     </th> <td>   1.982</td> \n",
       "</tr>\n",
       "<tr>\n",
       "  <th>Prob(Omnibus):</th> <td> 0.000</td>  <th>  Jarque-Bera (JB):  </th> <td> 745.107</td> \n",
       "</tr>\n",
       "<tr>\n",
       "  <th>Skew:</th>          <td> 0.523</td>  <th>  Prob(JB):          </th> <td>1.59e-162</td>\n",
       "</tr>\n",
       "<tr>\n",
       "  <th>Kurtosis:</th>      <td> 3.159</td>  <th>  Cond. No.          </th> <td>5.10e+03</td> \n",
       "</tr>\n",
       "</table><br/><br/>Notes:<br/>[1] Standard Errors assume that the covariance matrix of the errors is correctly specified.<br/>[2] The condition number is large, 5.1e+03. This might indicate that there are<br/>strong multicollinearity or other numerical problems."
      ],
      "text/latex": [
       "\\begin{center}\n",
       "\\begin{tabular}{lclc}\n",
       "\\toprule\n",
       "\\textbf{Dep. Variable:}    & Price\\_in\\_100k  & \\textbf{  R-squared:         } &     0.228   \\\\\n",
       "\\textbf{Model:}            &       OLS        & \\textbf{  Adj. R-squared:    } &     0.228   \\\\\n",
       "\\textbf{Method:}           &  Least Squares   & \\textbf{  F-statistic:       } &     1181.   \\\\\n",
       "\\textbf{Date:}             & Thu, 15 May 2025 & \\textbf{  Prob (F-statistic):} &     0.00    \\\\\n",
       "\\textbf{Time:}             &     12:32:27     & \\textbf{  Log-Likelihood:    } &   -22695.   \\\\\n",
       "\\textbf{No. Observations:} &       15977      & \\textbf{  AIC:               } & 4.540e+04   \\\\\n",
       "\\textbf{Df Residuals:}     &       15972      & \\textbf{  BIC:               } & 4.544e+04   \\\\\n",
       "\\textbf{Df Model:}         &           4      & \\textbf{                     } &             \\\\\n",
       "\\textbf{Covariance Type:}  &    nonrobust     & \\textbf{                     } &             \\\\\n",
       "\\bottomrule\n",
       "\\end{tabular}\n",
       "\\begin{tabular}{lcccccc}\n",
       "                   & \\textbf{coef} & \\textbf{std err} & \\textbf{t} & \\textbf{P$> |$t$|$} & \\textbf{[0.025} & \\textbf{0.975]}  \\\\\n",
       "\\midrule\n",
       "\\textbf{Intercept} &       0.7498  &        0.063     &    11.940  &         0.000        &        0.627    &        0.873     \\\\\n",
       "\\textbf{HouseAge}  &       0.0201  &        0.001     &    29.193  &         0.000        &        0.019    &        0.021     \\\\\n",
       "\\textbf{AveRooms}  &       0.3539  &        0.007     &    50.301  &         0.000        &        0.340    &        0.368     \\\\\n",
       "\\textbf{AveOccup}  &      -0.4525  &        0.011     &   -39.403  &         0.000        &       -0.475    &       -0.430     \\\\\n",
       "\\textbf{Houses}    &       0.0004  &      2.2e-05     &    16.531  &         0.000        &        0.000    &        0.000     \\\\\n",
       "\\bottomrule\n",
       "\\end{tabular}\n",
       "\\begin{tabular}{lclc}\n",
       "\\textbf{Omnibus:}       & 661.427 & \\textbf{  Durbin-Watson:     } &     1.982  \\\\\n",
       "\\textbf{Prob(Omnibus):} &   0.000 & \\textbf{  Jarque-Bera (JB):  } &   745.107  \\\\\n",
       "\\textbf{Skew:}          &   0.523 & \\textbf{  Prob(JB):          } & 1.59e-162  \\\\\n",
       "\\textbf{Kurtosis:}      &   3.159 & \\textbf{  Cond. No.          } &  5.10e+03  \\\\\n",
       "\\bottomrule\n",
       "\\end{tabular}\n",
       "%\\caption{OLS Regression Results}\n",
       "\\end{center}\n",
       "\n",
       "Notes: \\newline\n",
       " [1] Standard Errors assume that the covariance matrix of the errors is correctly specified. \\newline\n",
       " [2] The condition number is large, 5.1e+03. This might indicate that there are \\newline\n",
       " strong multicollinearity or other numerical problems."
      ],
      "text/plain": [
       "<class 'statsmodels.iolib.summary.Summary'>\n",
       "\"\"\"\n",
       "                            OLS Regression Results                            \n",
       "==============================================================================\n",
       "Dep. Variable:          Price_in_100k   R-squared:                       0.228\n",
       "Model:                            OLS   Adj. R-squared:                  0.228\n",
       "Method:                 Least Squares   F-statistic:                     1181.\n",
       "Date:                Thu, 15 May 2025   Prob (F-statistic):               0.00\n",
       "Time:                        12:32:27   Log-Likelihood:                -22695.\n",
       "No. Observations:               15977   AIC:                         4.540e+04\n",
       "Df Residuals:                   15972   BIC:                         4.544e+04\n",
       "Df Model:                           4                                         \n",
       "Covariance Type:            nonrobust                                         \n",
       "==============================================================================\n",
       "                 coef    std err          t      P>|t|      [0.025      0.975]\n",
       "------------------------------------------------------------------------------\n",
       "Intercept      0.7498      0.063     11.940      0.000       0.627       0.873\n",
       "HouseAge       0.0201      0.001     29.193      0.000       0.019       0.021\n",
       "AveRooms       0.3539      0.007     50.301      0.000       0.340       0.368\n",
       "AveOccup      -0.4525      0.011    -39.403      0.000      -0.475      -0.430\n",
       "Houses         0.0004    2.2e-05     16.531      0.000       0.000       0.000\n",
       "==============================================================================\n",
       "Omnibus:                      661.427   Durbin-Watson:                   1.982\n",
       "Prob(Omnibus):                  0.000   Jarque-Bera (JB):              745.107\n",
       "Skew:                           0.523   Prob(JB):                    1.59e-162\n",
       "Kurtosis:                       3.159   Cond. No.                     5.10e+03\n",
       "==============================================================================\n",
       "\n",
       "Notes:\n",
       "[1] Standard Errors assume that the covariance matrix of the errors is correctly specified.\n",
       "[2] The condition number is large, 5.1e+03. This might indicate that there are\n",
       "strong multicollinearity or other numerical problems.\n",
       "\"\"\""
      ]
     },
     "execution_count": 262,
     "metadata": {},
     "output_type": "execute_result"
    }
   ],
   "source": [
    "model_8 = SM.ols(f_8,train_df).fit()\n",
    "model_8.summary()"
   ]
  },
  {
   "cell_type": "code",
   "execution_count": 264,
   "id": "68c0900d-92b8-43fc-bbee-71b4cb303394",
   "metadata": {},
   "outputs": [],
   "source": [
    "model_name.append('Drop- Longitude, Latitude, AveBedrms, Population, MedInc')\n",
    "model_perf.append(model_8.rsquared_adj)"
   ]
  },
  {
   "cell_type": "code",
   "execution_count": 266,
   "id": "debe2682-04ea-4899-bd4c-defa5c336306",
   "metadata": {},
   "outputs": [],
   "source": [
    "train_df6 = train_df[['Price_in_100k', 'HouseAge', 'AveOccup', 'Houses']]"
   ]
  },
  {
   "cell_type": "code",
   "execution_count": 268,
   "id": "4e6467c2-7238-49e6-9441-510be35c0be4",
   "metadata": {},
   "outputs": [],
   "source": [
    "# VIF dataframe\n",
    "vif_data = pd.DataFrame()\n",
    "vif_data[\"feature\"] = train_df6.columns"
   ]
  },
  {
   "cell_type": "code",
   "execution_count": 270,
   "id": "3bf81243-f904-40b9-8b9d-3940aa608ed1",
   "metadata": {},
   "outputs": [
    {
     "data": {
      "text/html": [
       "<div>\n",
       "<style scoped>\n",
       "    .dataframe tbody tr th:only-of-type {\n",
       "        vertical-align: middle;\n",
       "    }\n",
       "\n",
       "    .dataframe tbody tr th {\n",
       "        vertical-align: top;\n",
       "    }\n",
       "\n",
       "    .dataframe thead th {\n",
       "        text-align: right;\n",
       "    }\n",
       "</style>\n",
       "<table border=\"1\" class=\"dataframe\">\n",
       "  <thead>\n",
       "    <tr style=\"text-align: right;\">\n",
       "      <th></th>\n",
       "      <th>feature</th>\n",
       "      <th>VIF</th>\n",
       "    </tr>\n",
       "  </thead>\n",
       "  <tbody>\n",
       "    <tr>\n",
       "      <th>0</th>\n",
       "      <td>Price_in_100k</td>\n",
       "      <td>3.826476</td>\n",
       "    </tr>\n",
       "    <tr>\n",
       "      <th>1</th>\n",
       "      <td>HouseAge</td>\n",
       "      <td>5.732631</td>\n",
       "    </tr>\n",
       "    <tr>\n",
       "      <th>2</th>\n",
       "      <td>AveOccup</td>\n",
       "      <td>6.583310</td>\n",
       "    </tr>\n",
       "    <tr>\n",
       "      <th>3</th>\n",
       "      <td>Houses</td>\n",
       "      <td>2.588418</td>\n",
       "    </tr>\n",
       "  </tbody>\n",
       "</table>\n",
       "</div>"
      ],
      "text/plain": [
       "         feature       VIF\n",
       "0  Price_in_100k  3.826476\n",
       "1       HouseAge  5.732631\n",
       "2       AveOccup  6.583310\n",
       "3         Houses  2.588418"
      ]
     },
     "execution_count": 270,
     "metadata": {},
     "output_type": "execute_result"
    }
   ],
   "source": [
    "# calculating VIF for each feature\n",
    "vif_data[\"VIF\"] = [variance_inflation_factor(train_df6.values, i)\n",
    "                          for i in range(len(train_df6.columns))]\n",
    "vif_data"
   ]
  },
  {
   "cell_type": "code",
   "execution_count": 272,
   "id": "b9f95355-8e88-4269-ade5-1c0a97cca69c",
   "metadata": {},
   "outputs": [
    {
     "data": {
      "text/html": [
       "<div>\n",
       "<style scoped>\n",
       "    .dataframe tbody tr th:only-of-type {\n",
       "        vertical-align: middle;\n",
       "    }\n",
       "\n",
       "    .dataframe tbody tr th {\n",
       "        vertical-align: top;\n",
       "    }\n",
       "\n",
       "    .dataframe thead th {\n",
       "        text-align: right;\n",
       "    }\n",
       "</style>\n",
       "<table border=\"1\" class=\"dataframe\">\n",
       "  <thead>\n",
       "    <tr style=\"text-align: right;\">\n",
       "      <th></th>\n",
       "      <th>model_name</th>\n",
       "      <th>model_perf</th>\n",
       "    </tr>\n",
       "  </thead>\n",
       "  <tbody>\n",
       "    <tr>\n",
       "      <th>0</th>\n",
       "      <td>All Variables</td>\n",
       "      <td>0.656135</td>\n",
       "    </tr>\n",
       "    <tr>\n",
       "      <th>1</th>\n",
       "      <td>Drop-House age, Longitude, Houses</td>\n",
       "      <td>0.568896</td>\n",
       "    </tr>\n",
       "    <tr>\n",
       "      <th>2</th>\n",
       "      <td>Drop-HouseAge, Longitude, Latitude</td>\n",
       "      <td>0.563779</td>\n",
       "    </tr>\n",
       "    <tr>\n",
       "      <th>3</th>\n",
       "      <td>Drop- Longitude</td>\n",
       "      <td>0.608237</td>\n",
       "    </tr>\n",
       "    <tr>\n",
       "      <th>4</th>\n",
       "      <td>Drop- Longitude, Latitude</td>\n",
       "      <td>0.602209</td>\n",
       "    </tr>\n",
       "    <tr>\n",
       "      <th>5</th>\n",
       "      <td>Drop- Longitude, Latitude, AveBedrms</td>\n",
       "      <td>0.587533</td>\n",
       "    </tr>\n",
       "    <tr>\n",
       "      <th>6</th>\n",
       "      <td>Drop- Longitude, Latitude, AveBedrms, Population</td>\n",
       "      <td>0.586614</td>\n",
       "    </tr>\n",
       "    <tr>\n",
       "      <th>7</th>\n",
       "      <td>Drop- Longitude, Latitude, AveBedrms, Populati...</td>\n",
       "      <td>0.228107</td>\n",
       "    </tr>\n",
       "  </tbody>\n",
       "</table>\n",
       "</div>"
      ],
      "text/plain": [
       "                                          model_name  model_perf\n",
       "0                                      All Variables    0.656135\n",
       "1                  Drop-House age, Longitude, Houses    0.568896\n",
       "2                 Drop-HouseAge, Longitude, Latitude    0.563779\n",
       "3                                    Drop- Longitude    0.608237\n",
       "4                          Drop- Longitude, Latitude    0.602209\n",
       "5               Drop- Longitude, Latitude, AveBedrms    0.587533\n",
       "6   Drop- Longitude, Latitude, AveBedrms, Population    0.586614\n",
       "7  Drop- Longitude, Latitude, AveBedrms, Populati...    0.228107"
      ]
     },
     "execution_count": 272,
     "metadata": {},
     "output_type": "execute_result"
    }
   ],
   "source": [
    "model_eval = pd.DataFrame({'model_name': model_name, 'model_perf': model_perf})\n",
    "model_eval"
   ]
  },
  {
   "cell_type": "markdown",
   "id": "7d5412b8-72e1-4214-9389-97ee3777cf52",
   "metadata": {},
   "source": [
    "#### Post feature engineering"
   ]
  },
  {
   "cell_type": "code",
   "execution_count": null,
   "id": "f66f852c-d399-44ba-bf33-5c0b8aa50a04",
   "metadata": {},
   "outputs": [],
   "source": [
    "# Function to categorize HouseAge\n",
    "def categorize_house_age(age):\n",
    "    if age < 10:\n",
    "        return \"New\"\n",
    "    elif 10 <= age <= 40:\n",
    "        return \"Mid\"\n",
    "    else:\n",
    "        return \"Old\""
   ]
  },
  {
   "cell_type": "code",
   "execution_count": null,
   "id": "554f39ab-e34a-40ed-9c64-d8ebb8a83c38",
   "metadata": {},
   "outputs": [],
   "source": [
    "# Apply the function\n",
    "data['HouseAgeCategory'] = data['HouseAge'].apply(categorize_house_age)\n",
    "\n",
    "# Display the DataFrame\n",
    "data"
   ]
  },
  {
   "cell_type": "code",
   "execution_count": null,
   "id": "e71a5c9a-1eb7-42eb-be9a-c2f2aa3250fd",
   "metadata": {},
   "outputs": [],
   "source": [
    "train_df_1, test_df_1 = train_test_split(data, test_size=0.2)"
   ]
  },
  {
   "cell_type": "code",
   "execution_count": null,
   "id": "21aa49c3-275c-4cf5-a51d-30b27edb81b5",
   "metadata": {},
   "outputs": [],
   "source": [
    "train_df_1.columns"
   ]
  },
  {
   "cell_type": "code",
   "execution_count": null,
   "id": "fedd7783-80c9-4237-b74d-48d1950d5f48",
   "metadata": {},
   "outputs": [],
   "source": [
    "f1_1 = 'Price_in_100k~MedInc+HouseAge+AveRooms+AveBedrms+Population+AveOccup+Latitude+Longitude+Houses+HouseAgeCategory'"
   ]
  },
  {
   "cell_type": "code",
   "execution_count": null,
   "id": "0a3b728b-dff8-4457-900a-b3539270fd82",
   "metadata": {},
   "outputs": [],
   "source": [
    "model_1 = SM.ols(f1_1,train_df_1).fit()\n",
    "model_1.summary()"
   ]
  },
  {
   "cell_type": "markdown",
   "id": "729cab4e-e07e-47a9-b56b-1ff2bbfd8ff3",
   "metadata": {},
   "source": [
    "#### Drop - House age, Longitude, Houses"
   ]
  },
  {
   "cell_type": "code",
   "execution_count": null,
   "id": "6b9fca3b-3a31-44d3-ad7c-b8e375d09bfa",
   "metadata": {},
   "outputs": [],
   "source": [
    "f1_2 = 'Price_in_100k~MedInc+AveRooms+AveBedrms+Population+AveOccup+Latitude+HouseAgeCategory'"
   ]
  },
  {
   "cell_type": "code",
   "execution_count": null,
   "id": "661c65ef-e24f-48a1-903c-fcb0fb19e0ce",
   "metadata": {},
   "outputs": [],
   "source": [
    "model_1 = SM.ols(f1_2,train_df_1).fit()\n",
    "model_1.summary()"
   ]
  },
  {
   "cell_type": "markdown",
   "id": "8ec43704-65b1-4239-8315-78de30543c19",
   "metadata": {},
   "source": [
    "#### Drop - HouseAge, Longitude, Latitude"
   ]
  },
  {
   "cell_type": "code",
   "execution_count": null,
   "id": "ba1a1bdf-5811-4d9c-b7a8-517b05442af3",
   "metadata": {},
   "outputs": [],
   "source": [
    "f1_3 = 'Price_in_100k~MedInc+AveRooms+AveBedrms+Population+AveOccup+Houses+HouseAgeCategory'"
   ]
  },
  {
   "cell_type": "code",
   "execution_count": null,
   "id": "e081304f-3f6d-467a-9ba9-a26cc4414f63",
   "metadata": {},
   "outputs": [],
   "source": [
    "model_1 = SM.ols(f1_3,train_df_1).fit()\n",
    "model_1.summary()"
   ]
  },
  {
   "cell_type": "markdown",
   "id": "2864594a-bb57-40fa-b091-a9d022251e22",
   "metadata": {},
   "source": [
    "### ---------------------------------------------------"
   ]
  },
  {
   "cell_type": "markdown",
   "id": "a188336c-58cc-4ab2-a4d3-d59ac7a630b4",
   "metadata": {},
   "source": [
    "#### Drop - Houses, Longitude, Latitude"
   ]
  },
  {
   "cell_type": "code",
   "execution_count": null,
   "id": "4f027486-ec19-4768-b675-2406ec0d3c7c",
   "metadata": {},
   "outputs": [],
   "source": [
    "f_4 = 'Price_in_100k~MedInc+HouseAge+AveRooms+AveBedrms+Population+AveOccup'"
   ]
  },
  {
   "cell_type": "code",
   "execution_count": null,
   "id": "d3326950-a9a0-4364-8196-60a4dd08df75",
   "metadata": {},
   "outputs": [],
   "source": [
    "model_1 = SM.ols(f_4,train_df).fit()\n",
    "model_1.summary()"
   ]
  },
  {
   "cell_type": "code",
   "execution_count": null,
   "id": "e52f5a51-caeb-4951-a7a4-353be75c77f0",
   "metadata": {},
   "outputs": [],
   "source": [
    "model_2 = SM.ols(f_4,test_df).fit()\n",
    "model_2.summary()"
   ]
  },
  {
   "cell_type": "code",
   "execution_count": null,
   "id": "7aa0e043-843f-4e06-93fe-69e3f094d28b",
   "metadata": {},
   "outputs": [],
   "source": [
    "model_MLR_1_pred = model_1.fittedvalues\n"
   ]
  },
  {
   "cell_type": "code",
   "execution_count": null,
   "id": "51efbccc-00a8-4050-88f5-cbcdf515bd8d",
   "metadata": {},
   "outputs": [],
   "source": [
    "model_MLR_1_pred"
   ]
  },
  {
   "cell_type": "code",
   "execution_count": null,
   "id": "c836105c-f8d4-4ac1-afba-3a6e73be9b61",
   "metadata": {},
   "outputs": [],
   "source": [
    "model_MLR_2_pred = model_2.fittedvalues\n"
   ]
  },
  {
   "cell_type": "code",
   "execution_count": null,
   "id": "6d6543a6-9ff0-49f3-bdce-0244d6914135",
   "metadata": {},
   "outputs": [],
   "source": [
    "model_MLR_2_pred"
   ]
  },
  {
   "cell_type": "code",
   "execution_count": null,
   "id": "f02d45be-7e8a-43c4-9648-baf59523bffd",
   "metadata": {},
   "outputs": [],
   "source": [
    "test_df"
   ]
  },
  {
   "cell_type": "code",
   "execution_count": null,
   "id": "60495ff7-2349-466b-a558-2a42303d13e8",
   "metadata": {},
   "outputs": [],
   "source": [
    "test_df.describe()"
   ]
  },
  {
   "cell_type": "code",
   "execution_count": null,
   "id": "9d4abb40-c7c8-458b-9ebb-e88561353905",
   "metadata": {},
   "outputs": [],
   "source": [
    "from sklearn import metrics"
   ]
  },
  {
   "cell_type": "code",
   "execution_count": null,
   "id": "32e9d747-8e59-4858-8257-45a1ba6f9a04",
   "metadata": {},
   "outputs": [],
   "source": [
    "metrics.mean_squared_error(test_df['Price_in_100k'], model_MLR_2_pred,squared=False)"
   ]
  },
  {
   "cell_type": "code",
   "execution_count": null,
   "id": "24177782-1bd4-4bfe-bfa8-6e2a0c0a055b",
   "metadata": {},
   "outputs": [],
   "source": []
  },
  {
   "cell_type": "code",
   "execution_count": null,
   "id": "a8a3b691-204a-44b3-bde9-22528bb6aca4",
   "metadata": {},
   "outputs": [],
   "source": []
  },
  {
   "cell_type": "markdown",
   "id": "1514a0b9-53ab-4201-8c9b-5b1bc450f0f3",
   "metadata": {},
   "source": [
    "## Bivariate analysis"
   ]
  },
  {
   "cell_type": "code",
   "execution_count": null,
   "id": "8aaa216c-3f3c-4cd1-8fe3-fbf43c46875b",
   "metadata": {},
   "outputs": [],
   "source": [
    "data1 = data['HouseAgeCategory'].drop"
   ]
  },
  {
   "cell_type": "code",
   "execution_count": null,
   "id": "9c78959b-a7a6-4bc3-8b41-8dab050fe57b",
   "metadata": {},
   "outputs": [],
   "source": [
    "data"
   ]
  },
  {
   "cell_type": "code",
   "execution_count": null,
   "id": "1c6cd8f4-45bb-46c3-b277-e6ef71f67290",
   "metadata": {},
   "outputs": [],
   "source": [
    "data1"
   ]
  },
  {
   "cell_type": "code",
   "execution_count": null,
   "id": "9766036b-ae88-4add-93ed-03866f850717",
   "metadata": {},
   "outputs": [],
   "source": [
    "# let's see correlation between the different features\n",
    "house_corr = data.corr(method ='pearson')\n",
    "house_corr"
   ]
  },
  {
   "cell_type": "code",
   "execution_count": null,
   "id": "ebf0696f-a351-4f6f-86d1-f95ae6a81b05",
   "metadata": {},
   "outputs": [],
   "source": [
    "# Plotting heatmap\n",
    "plt.subplots(figsize =(22, 12)) \n",
    "sns.heatmap(house_corr,cmap=\"coolwarm\",annot=True, mask = np.triu(np.ones_like(house_corr, dtype=bool)))\n",
    "plt.title(\"Correlation Matrix\", size=30)"
   ]
  },
  {
   "cell_type": "code",
   "execution_count": null,
   "id": "73c8f76e-ffc5-47dc-8a56-b788573cb0ee",
   "metadata": {},
   "outputs": [],
   "source": [
    "top_features = house_corr.corr()[['Price_in_100k']].sort_values(by=['Price_in_100k'],ascending=False).head(30)\n",
    "plt.figure(figsize=(5,10))\n",
    "sns.heatmap(top_features,cmap='rainbow',annot=True,annot_kws={\"size\": 16},vmin=-1)\n",
    "plt.title(\"Correlation with Price Variable\", size=15)"
   ]
  },
  {
   "cell_type": "code",
   "execution_count": null,
   "id": "f5f8a3d9-316c-4f1a-a99c-0934cbc2ef17",
   "metadata": {},
   "outputs": [],
   "source": []
  }
 ],
 "metadata": {
  "kernelspec": {
   "display_name": "Python 3 (ipykernel)",
   "language": "python",
   "name": "python3"
  },
  "language_info": {
   "codemirror_mode": {
    "name": "ipython",
    "version": 3
   },
   "file_extension": ".py",
   "mimetype": "text/x-python",
   "name": "python",
   "nbconvert_exporter": "python",
   "pygments_lexer": "ipython3",
   "version": "3.12.7"
  }
 },
 "nbformat": 4,
 "nbformat_minor": 5
}
